{
  "nbformat": 4,
  "nbformat_minor": 0,
  "metadata": {
    "colab": {
      "name": "CH7.ipynb",
      "provenance": [],
      "collapsed_sections": [],
      "authorship_tag": "ABX9TyPRzs/qp3H3XGrd4RH/zfht",
      "include_colab_link": true
    },
    "kernelspec": {
      "name": "python3",
      "display_name": "Python 3"
    },
    "language_info": {
      "name": "python"
    }
  },
  "cells": [
    {
      "cell_type": "markdown",
      "metadata": {
        "id": "view-in-github",
        "colab_type": "text"
      },
      "source": [
        "<a href=\"https://colab.research.google.com/github/hinda-mt/hinda-mt/blob/main/CH7.ipynb\" target=\"_parent\"><img src=\"https://colab.research.google.com/assets/colab-badge.svg\" alt=\"Open In Colab\"/></a>"
      ]
    },
    {
      "cell_type": "markdown",
      "metadata": {
        "id": "JlgQl0gSwfB3"
      },
      "source": [
        "1. Write a Python program to read an entire text file.\n"
      ]
    },
    {
      "cell_type": "code",
      "metadata": {
        "id": "fHrrz6_zwCX8",
        "colab": {
          "base_uri": "https://localhost:8080/"
        },
        "outputId": "4a2c913d-5560-4787-9dc8-650ca9aea2d9"
      },
      "source": [
        "\n",
        "f = open(\"python.txt\",'r')\n",
        "\n",
        "print(f.read())\n",
        "\n",
        "f.close()\n",
        "\n",
        "#read an entire text file.\n",
        "#or we can use \"with open ..as f:\" which will close the file automatically :\n",
        "##with open(\"python.txt\",'r') as f: and then use theese two lines of code :f_content=f.read() pirnt(f_content)\n",
        "\n",
        "  \n"
      ],
      "execution_count": null,
      "outputs": [
        {
          "output_type": "stream",
          "name": "stdout",
          "text": [
            "What is Python language?                                                \n",
            "Python is a widely used high-level, general-purpose, interpreted, dynamic programming language.Its design philosophy emphasizes code readability, and its syntax allows programmers to express concepts in fewer lines of code than possible in \n",
            "languages such as C++ or Java. \n",
            "Python supports multiple programming paradigms, including object-oriented, imperative and functional programming or procedural styles. It features a dynamic type system and automatic memory management and has a large and comprehensive standard library.The best way we learn anything is by practice and exercise questions. We  have started this section for those (beginner to intermediate) who are familiar with Python.\n"
          ]
        }
      ]
    },
    {
      "cell_type": "code",
      "metadata": {
        "colab": {
          "base_uri": "https://localhost:8080/"
        },
        "id": "eI6uTZkX0RIa",
        "outputId": "3467d80e-9821-4db0-9cde-7d7b3f6a0ad2"
      },
      "source": [
        "def round_to_two_places(num):\n",
        "     return round(num)   \n",
        "round_to_two_places(3.14159)"
      ],
      "execution_count": null,
      "outputs": [
        {
          "output_type": "execute_result",
          "data": {
            "text/plain": [
              "3"
            ]
          },
          "metadata": {},
          "execution_count": 3
        }
      ]
    },
    {
      "cell_type": "markdown",
      "metadata": {
        "id": "Ah8U4EG_wHVb"
      },
      "source": [
        "2. Write a Python program to read first n lines of a file. (try to use readlines() function)\n"
      ]
    },
    {
      "cell_type": "code",
      "metadata": {
        "id": "Shib87u0wlfo",
        "colab": {
          "base_uri": "https://localhost:8080/"
        },
        "outputId": "515d0b1d-aced-4305-8c85-63e43b293829"
      },
      "source": [
        "with open(\"python.txt\",'r')as f: \n",
        "    file_content=f.readlines(100)    \n",
        "    \n",
        "      \n",
        "print(file_content,\"end=\")\n",
        "\n",
        "\n",
        "\n"
      ],
      "execution_count": null,
      "outputs": [
        {
          "output_type": "stream",
          "name": "stdout",
          "text": [
            "['What is Python language?                                                \\n', 'Python is a widely used high-level, general-purpose, interpreted, dynamic programming language.Its design philosophy emphasizes code readability, and its syntax allows programmers to express concepts in fewer lines of code than possible in languages such as C++ or Java. \\n'] end=\n"
          ]
        }
      ]
    },
    {
      "cell_type": "markdown",
      "metadata": {
        "id": "u_-YqW7qwHnW"
      },
      "source": [
        "3. Write a Python program to read last n lines of a file\n"
      ]
    },
    {
      "cell_type": "code",
      "metadata": {
        "id": "AmaQmRN_wj69",
        "colab": {
          "base_uri": "https://localhost:8080/"
        },
        "outputId": "843d9a58-f9fe-4001-a9fe-cd6ddf61be0c"
      },
      "source": [
        "with open(\"python.txt\",'r')as f:\n",
        "  file_content=f.readlines()\n",
        "  last_lines=file_content\n",
        "\n",
        "print(last_lines[-1:])\n"
      ],
      "execution_count": null,
      "outputs": [
        {
          "output_type": "stream",
          "name": "stdout",
          "text": [
            "['Python supports multiple programming paradigms, including object-oriented, imperative and functional programming or procedural styles. It features a dynamic type system and automatic memory management and has a large and comprehensive standard library.The best way we learn anything is by practice and exercise questions. We  have started this section for those (beginner to intermediate) who are familiar with Python.']\n"
          ]
        }
      ]
    },
    {
      "cell_type": "code",
      "metadata": {
        "id": "IgHwwHnHvJ5z"
      },
      "source": [
        "n = int(input(\"Enter the number of last lines\"))\n",
        "f = open(\"python.txt\",'r')\n",
        "for i in range(n):\n",
        "  f.readine()"
      ],
      "execution_count": null,
      "outputs": []
    },
    {
      "cell_type": "code",
      "metadata": {
        "colab": {
          "base_uri": "https://localhost:8080/"
        },
        "id": "T7gVjhU4uuUl",
        "outputId": "5bee6bee-ec9d-4309-a7f1-678256cec242"
      },
      "source": [
        "n = int(input(\"Enter the number of last lines\"))\n",
        "with open(\"python.txt\",'r')as f:\n",
        "  file_content=f.readlines()\n",
        "\n",
        "file_content[-n:]"
      ],
      "execution_count": null,
      "outputs": [
        {
          "output_type": "execute_result",
          "data": {
            "text/plain": [
              "['Python is a widely used high-level, general-purpose, interpreted, dynamic programming language.Its design philosophy emphasizes code readability, and its syntax allows programmers to express concepts in fewer lines of code than possible in languages such as C++ or Java. \\n',\n",
              " 'Python supports multiple programming paradigms, including object-oriented, imperative and functional programming or procedural styles. It features a dynamic type system and automatic memory management and has a large and comprehensive standard library.The best way we learn anything is by practice and exercise questions. We  have started this section for those (beginner to intermediate) who are familiar with Python.']"
            ]
          },
          "metadata": {},
          "execution_count": 3
        }
      ]
    },
    {
      "cell_type": "markdown",
      "metadata": {
        "id": "y6df3iVywHzc"
      },
      "source": [
        "4. Write a Python program that takes a text file as input and returns the number of words of a given text file.\n",
        "\n"
      ]
    },
    {
      "cell_type": "code",
      "metadata": {
        "id": "8hICk--kkzY_"
      },
      "source": [
        "#function that takes a text file as input and returns the number of words of a given text file.\n",
        "def my_function(file_path):\n",
        "    with open(file_path,'r') as f:\n",
        "      text = f.read()\n",
        "      num_words = len(text.split())\n",
        "\n",
        "    print('nbr of words',num_words)\n",
        "\n",
        "#still didn't get the answer here\n",
        "#\"python.txt\""
      ],
      "execution_count": null,
      "outputs": []
    },
    {
      "cell_type": "code",
      "metadata": {
        "colab": {
          "base_uri": "https://localhost:8080/"
        },
        "id": "v_EtoggUw1I8",
        "outputId": "ea29d140-020f-4e6a-8fc3-916cc312152f"
      },
      "source": [
        "my_function(\"python.txt\")"
      ],
      "execution_count": null,
      "outputs": [
        {
          "output_type": "stream",
          "name": "stdout",
          "text": [
            "nbr of words 100\n"
          ]
        }
      ]
    }
  ]
}