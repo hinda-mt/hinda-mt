{
  "nbformat": 4,
  "nbformat_minor": 0,
  "metadata": {
    "colab": {
      "name": "CH3",
      "private_outputs": true,
      "provenance": [],
      "collapsed_sections": [],
      "authorship_tag": "ABX9TyMCSsywOpQiD8Gw47Xz2Z3g",
      "include_colab_link": true
    },
    "kernelspec": {
      "name": "python3",
      "display_name": "Python 3"
    },
    "language_info": {
      "name": "python"
    }
  },
  "cells": [
    {
      "cell_type": "markdown",
      "metadata": {
        "id": "view-in-github",
        "colab_type": "text"
      },
      "source": [
        "<a href=\"https://colab.research.google.com/github/hinda-mt/hinda-mt/blob/main/CH3.ipynb\" target=\"_parent\"><img src=\"https://colab.research.google.com/assets/colab-badge.svg\" alt=\"Open In Colab\"/></a>"
      ]
    },
    {
      "cell_type": "markdown",
      "metadata": {
        "id": "Oe78vLjz5U1K"
      },
      "source": [
        "##Question 1 "
      ]
    },
    {
      "cell_type": "code",
      "metadata": {
        "id": "ftC8OHUTOvym"
      },
      "source": [
        "n = int(input('Enter n: ')) \n",
        "print(n+int(f'{n}{n}')+int(f'{n}{n}{n}')) "
      ],
      "execution_count": null,
      "outputs": []
    },
    {
      "cell_type": "markdown",
      "metadata": {
        "id": "8XlUYc0l5qad"
      },
      "source": [
        "##Question 2\n",
        "\n"
      ]
    },
    {
      "cell_type": "code",
      "metadata": {
        "id": "uMWHR-5YO4LB"
      },
      "source": [
        "\n",
        "x=int(input())\n",
        "if x%2==0:\n",
        "  print(x,\"is even\")\n",
        "else:\n",
        "  print(x,\"is odd\")\n"
      ],
      "execution_count": null,
      "outputs": []
    },
    {
      "cell_type": "markdown",
      "metadata": {
        "id": "nJTvMD9j5z3q"
      },
      "source": [
        "##Question 3"
      ]
    },
    {
      "cell_type": "code",
      "metadata": {
        "id": "rn4N5QAXO7Dm"
      },
      "source": [
        "for n in range(2000,3201):\n",
        "    if (n%7)==0 and not(n%5)==0:\n",
        "            print(n, end=\";\")\n",
        "    "
      ],
      "execution_count": null,
      "outputs": []
    },
    {
      "cell_type": "markdown",
      "metadata": {
        "id": "ymWR_-Gh53zT"
      },
      "source": [
        "##Question 4"
      ]
    },
    {
      "cell_type": "code",
      "metadata": {
        "id": "5jv1fk8XO-i6"
      },
      "source": [
        "\n",
        "n=int(input())\n",
        "factoriel=1\n",
        "for i in range (1,n+1):\n",
        "    factoriel=factoriel*i\n",
        "   \n",
        "print(factoriel)"
      ],
      "execution_count": null,
      "outputs": []
    },
    {
      "cell_type": "markdown",
      "metadata": {
        "id": "XUgELVrD57PK"
      },
      "source": [
        "##Question 5"
      ]
    },
    {
      "cell_type": "code",
      "metadata": {
        "id": "vajh8g1qPFhF"
      },
      "source": [
        "\n",
        "ch=input(\"enter the message : \")\n",
        "for i in range (len(ch)): \n",
        "    if i%2==0:\n",
        "        s=ch[i]\n",
        "        print(s,end=\"\")\n",
        "print(\": is The modified message\")"
      ],
      "execution_count": null,
      "outputs": []
    }
  ]
}