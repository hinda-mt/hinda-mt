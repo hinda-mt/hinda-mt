{
  "nbformat": 4,
  "nbformat_minor": 0,
  "metadata": {
    "kernelspec": {
      "name": "python3",
      "display_name": "Python 3"
    },
    "colab": {
      "name": "Deep Learning and Neural Networks Checkpoint: Build_your_own_chatbot.ipynb",
      "provenance": [],
      "collapsed_sections": [],
      "include_colab_link": true
    },
    "accelerator": "GPU"
  },
  "cells": [
    {
      "cell_type": "markdown",
      "metadata": {
        "id": "view-in-github",
        "colab_type": "text"
      },
      "source": [
        "<a href=\"https://colab.research.google.com/github/hinda-mt/hinda-mt/blob/main/Deep_Learning_and_Neural_Networks_Checkpoint_Build_your_own_chatbot.ipynb\" target=\"_parent\"><img src=\"https://colab.research.google.com/assets/colab-badge.svg\" alt=\"Open In Colab\"/></a>"
      ]
    },
    {
      "cell_type": "markdown",
      "metadata": {
        "id": "V2a6LEM_KvWR"
      },
      "source": [
        "# Building your own Chatbot from Scratch in Python (using NLTK)\n",
        "\n",
        "![Alt text](https://cdn-images-1.medium.com/max/800/1*pPcVfZ7i-gLMabUol3zezA.gif)\n",
        "\n",
        "History of chatbots dates back to 1966 when a computer program called ELIZA was invented by Weizenbaum. It imitated the language of a psychotherapist from only 200 lines of code. You can still converse with it here: [Eliza](http://psych.fullerton.edu/mbirnbaum/psych101/Eliza.htm?utm_source=ubisend.com&utm_medium=blog-link&utm_campaign=ubisend). \n",
        "\n",
        "On similar lines let's create a very basic chatbot utlising the Python's NLTK library.It's a very simple bot with hardly any cognitive skills,but still a good way to get into NLP and get to know about chatbots.\n",
        "\n",
        "For detailed analysis, please see the accompanying blog titled:**[Building a Simple Chatbot in Python (using NLTK](https://medium.com/analytics-vidhya/building-a-simple-chatbot-in-python-using-nltk-7c8c8215ac6e)\n"
      ]
    },
    {
      "cell_type": "markdown",
      "source": [
        "stop words (the ,in ,...) "
      ],
      "metadata": {
        "id": "f6QN7JgusfnA"
      }
    },
    {
      "cell_type": "markdown",
      "metadata": {
        "id": "Nso6M6g0KvWU"
      },
      "source": [
        "## NLP\n",
        "NLP is a way for computers to analyze, understand, and derive meaning from human language in a smart and useful way. By utilizing NLP, developers can organize and structure knowledge to perform tasks such as automatic summarization, translation, named entity recognition, relationship extraction, sentiment analysis, speech recognition, and topic segmentation."
      ]
    },
    {
      "cell_type": "markdown",
      "metadata": {
        "id": "CPCNIpdJKvWX"
      },
      "source": [
        "## Import necessary libraries"
      ]
    },
    {
      "cell_type": "code",
      "metadata": {
        "id": "ytKb4HVAKvWZ"
      },
      "source": [
        "import io\n",
        "import random\n",
        "import string # to process standard python strings\n",
        "import warnings\n",
        "import numpy as np\n",
        "from sklearn.feature_extraction.text import TfidfVectorizer\n",
        "from sklearn.metrics.pairwise import cosine_similarity\n",
        "import warnings\n",
        "warnings.filterwarnings('ignore')"
      ],
      "execution_count": null,
      "outputs": []
    },
    {
      "cell_type": "markdown",
      "metadata": {
        "id": "Qa8m-fe8KvWr"
      },
      "source": [
        "## Downloading and installing NLTK\n",
        "NLTK(Natural Language Toolkit) is a leading platform for building Python programs to work with human language data. It provides easy-to-use interfaces to over 50 corpora and lexical resources such as WordNet, along with a suite of text processing libraries for classification, tokenization, stemming, tagging, parsing, and semantic reasoning, wrappers for industrial-strength NLP libraries.\n",
        "\n",
        "[Natural Language Processing with Python](http://www.nltk.org/book/) provides a practical introduction to programming for language processing.\n",
        "\n",
        "For platform-specific instructions, read [here](https://www.nltk.org/install.html)\n",
        "\n"
      ]
    },
    {
      "cell_type": "code",
      "metadata": {
        "id": "JRjPlOnTKvWt",
        "colab": {
          "base_uri": "https://localhost:8080/"
        },
        "outputId": "7bca4d13-63f3-43a6-fe70-8d20930038dd"
      },
      "source": [
        "pip install nltk"
      ],
      "execution_count": null,
      "outputs": [
        {
          "output_type": "stream",
          "name": "stdout",
          "text": [
            "Requirement already satisfied: nltk in /usr/local/lib/python3.7/dist-packages (3.2.5)\n",
            "Requirement already satisfied: six in /usr/local/lib/python3.7/dist-packages (from nltk) (1.15.0)\n"
          ]
        }
      ]
    },
    {
      "cell_type": "markdown",
      "metadata": {
        "id": "IsQ8TnrKKvW6"
      },
      "source": [
        "### Installing NLTK Packages\n",
        "\n",
        "\n"
      ]
    },
    {
      "cell_type": "code",
      "metadata": {
        "id": "ikyB47wnKvW8",
        "colab": {
          "base_uri": "https://localhost:8080/"
        },
        "outputId": "7f275afa-2b05-4741-c0fb-ea949d373486"
      },
      "source": [
        "import nltk\n",
        "from nltk.stem import WordNetLemmatizer\n",
        "nltk.download('popular', quiet=True) # for downloading packages\n",
        "nltk.download('punkt') # first-time use only\n",
        "nltk.download('wordnet') # first-time use only"
      ],
      "execution_count": null,
      "outputs": [
        {
          "output_type": "stream",
          "name": "stdout",
          "text": [
            "[nltk_data] Downloading package punkt to /root/nltk_data...\n",
            "[nltk_data]   Package punkt is already up-to-date!\n",
            "[nltk_data] Downloading package wordnet to /root/nltk_data...\n",
            "[nltk_data]   Package wordnet is already up-to-date!\n"
          ]
        },
        {
          "output_type": "execute_result",
          "data": {
            "text/plain": [
              "True"
            ]
          },
          "metadata": {},
          "execution_count": 4
        }
      ]
    },
    {
      "cell_type": "markdown",
      "metadata": {
        "id": "EUFC9npYKvXF"
      },
      "source": [
        "## Reading in the corpus\n",
        "\n",
        "For our example,we will be using the Wikipedia page for chatbots as our corpus. Copy the contents from the page and place it in a text file named ‘chatbot.txt’. However, you can use any corpus of your choice."
      ]
    },
    {
      "cell_type": "code",
      "metadata": {
        "id": "jCBu_xdpKvXH",
        "colab": {
          "base_uri": "https://localhost:8080/",
          "height": 1000
        },
        "outputId": "d6921eb9-e81b-4797-aaaf-0fdfe1fe6166"
      },
      "source": [
        "f=open('chat.txt','r', errors=\"ignore\")\n",
        "raw=f.read()#read file **\n",
        "raw = raw.lower()# converts to lowercase\n",
        "raw"
      ],
      "execution_count": null,
      "outputs": [
        {
          "output_type": "execute_result",
          "data": {
            "application/vnd.google.colaboratory.intrinsic+json": {
              "type": "string"
            },
            "text/plain": [
              "'chatbot\\nfrom wikipedia, the free encyclopedia\\njump to navigationjump to search\\nfor other uses, see chatbot (disambiguation).\\n\\nan virtual assistant chatbot\\na chatbot (also known as a spy, conversational bot, chatterbot, interactive agent, conversational interface, conversational ai, talkbot or artificial spy entity) is a computer program or an artificial intelligence which conducts a conversation via auditory or textual methods.[1] such programs are often designed to convincingly simulate how a human would behave as a conversational partner, thereby passing the turing test. chatbots are typically used in dialog systems for various practical purposes including customer service or information acquisition. some chatbots use sophisticated natural language processing systems, but many simpler ones scan for keywords within the input, then pull a reply with the most matching keywords, or the most similar wording pattern, from a database.\\n\\nthe term \"chatterbot\" was originally coined by michael mauldin (creator of the first verbot, julia) in 1994 to describe these conversational programs.[2] today, most chatbots are accessed via virtual assistants such as google assistant and amazon alexa, via messaging apps such as facebook messenger or wechat, or via individual organizations\\' apps and websites.[3][4] chatbots can be classified into usage categories such as conversational commerce (e-commerce via chat), analytics, communication, customer support, design, developer tools, education, entertainment, finance, food, games, health, hr, marketing, news, personal, productivity, shopping, social, sports, travel and utilities.[5]\\n\\nbeyond chatbots, conversational ai refers to the use of messaging apps, speech-based assistants and chatbots to automate communication and create personalized customer experiences at scale.[6]\\n\\n\\ncontents\\n1\\tbackground\\n2\\tdevelopment\\n3\\tapplication\\n3.1\\tmessaging apps\\n3.1.1\\tas part of company apps and websites\\n3.2\\tcompany internal platforms\\n3.3\\tbanking\\n3.4\\ttoys\\n3.5\\tchatbots in medicine and for mental health\\n4\\tchatbot development platforms\\n5\\tmalicious use\\n6\\texamples of malicious uses for chatbots\\n7\\tlimitations of chatbots\\n8\\tchatbots killing jobs\\n9\\tsee also\\n10\\tcitations\\n11\\treferences\\nbackground\\nin 1950, alan turing\\'s famous article \"computing machinery and intelligence\" was published,[7] which proposed what is now called the turing test as a criterion of intelligence. this criterion depends on the ability of a computer program to impersonate a human in a real-time written conversation with a human judge, sufficiently well that the judge is unable to distinguish reliably—on the basis of the conversational content alone—between the program and a real human. the notoriety of turing\\'s proposed test stimulated great interest in joseph weizenbaum\\'s program eliza, published in 1966, which seemed to be able to fool users into believing that they were conversing with a real human. however weizenbaum himself did not claim that eliza was genuinely intelligent, and the introduction to his paper presented it more as a debunking exercise:\\n\\n[in] artificial intelligence ... machines are made to behave in wondrous ways, often sufficient to dazzle even the most experienced observer. but once a particular program is unmasked, once its inner workings are explained ... its magic crumbles away; it stands revealed as a mere collection of procedures ... the observer says to himself \"i could have written that\". with that thought he moves the program in question from the shelf marked \"intelligent\", to that reserved for curios ... the object of this paper is to cause just such a re-evaluation of the program about to be \"explained\". few programs ever needed it more.[8]\\n\\neliza\\'s key method of operation (copied by chatbot designers ever since) involves the recognition of clue words or phrases in the input, and the output of corresponding pre-prepared or pre-programmed responses that can move the conversation forward in an apparently meaningful way (e.g. by responding to any input that contains the word \\'mother\\' with \\'tell me more about your family\\').[9] thus an illusion of understanding is generated, even though the processing involved has been merely superficial. eliza showed that such an illusion is surprisingly easy to generate, because human judges are so ready to give the benefit of the doubt when conversational responses are capable of being interpreted as \"intelligent\".\\n\\ninterface designers have come to appreciate that humans\\' readiness to interpret computer output as genuinely conversational—even when it is actually based on rather simple pattern-matching—can be exploited for useful purposes. most people prefer to engage with programs that are human-like, and this gives chatbot-style techniques a potentially useful role in interactive systems that need to elicit information from users, as long as that information is relatively straightforward and falls into predictable categories. thus, for example, online help systems can usefully employ chatbot techniques to identify the area of help that users require, potentially providing a \"friendlier\" interface than a more formal search or menu system. this sort of usage holds the prospect of moving chatbot technology from weizenbaum\\'s \"shelf ... reserved for curios\" to that marked \"genuinely useful computational methods\".\\n\\ndevelopment\\nthe classic historic early chatbots are eliza (1966) and parry (1972).[10][11][12][13] more recent notable programs include a.l.i.c.e., jabberwacky and d.u.d.e (agence nationale de la recherche and cnrs 2006). while eliza and parry were used exclusively to simulate typed conversation, many chatbots now include functional features such as games and web searching abilities. in 1984, a book called the policeman\\'s beard is half constructed was published, allegedly written by the chatbot racter (though the program as released would not have been capable of doing so).[14]\\n\\none pertinent field of ai research is natural language processing. usually, weak ai fields employ specialized software or programming languages created specifically for the narrow function required. for example, a.l.i.c.e. uses a markup language called aiml, which is specific to its function as a conversational agent, and has since been adopted by various other developers of, so called, alicebots. nevertheless, a.l.i.c.e. is still purely based on pattern matching techniques without any reasoning capabilities, the same technique eliza was using back in 1966. this is not strong ai, which would require sapience and logical reasoning abilities.\\n\\njabberwacky learns new responses and context based on real-time user interactions, rather than being driven from a static database. some more recent chatbots also combine real-time learning with evolutionary algorithms that optimise their ability to communicate based on each conversation held. still, there is currently no general purpose conversational artificial intelligence, and some software developers focus on the practical aspect, information retrieval.\\n\\nchatbot competitions focus on the turing test or more specific goals. two such annual contests are the loebner prize and the chatterbox challenge (the latter has been offline since 2015, however materials can still be found from web archives).[15]\\n\\napplication\\nsee also: virtual assistant\\n\\naeromexico airline chatbot running on facebook messenger, march 2018\\nmessaging apps\\nmany companies\\' chatbots run on messaging apps or simply via sms. they are used for b2c customer service, sales and marketing.[16]\\n\\nin 2016, facebook messenger allowed developers to place chatbots on their platform. there were 30,000 bots created for messenger in the first six months, rising to 100,000 by september 2017. [17]\\n\\nsince september 2017, this has also been as part of a pilot program on whatsapp. airlines klm and aeroméxico both announced their participation in the testing;[18][19][20][21] both airlines had previously launched customer services on the facebook messenger platform.\\n\\nthe bots usually appear as one of the user\\'s contacts, but can sometimes act as participants in a group chat.\\n\\nmany banks, insurers, media companies, e-commerce companies, airlines, hotel chains, retailers, health care providers, government entities and restaurant chains have used chatbots to answer simple questions, increase customer engagement,[22] for promotion, and to offer additional ways to order from them.[23][24]\\n\\na 2017 study showed 4% of companies used chatbots.[25] according to a 2016 study, 80% of businesses said they intended to have one by 2020.[26]\\n\\nas part of company apps and websites\\nprevious generations of chatbots were present on company websites, e.g. ask jenn from alaska airlines which debuted in 2008[27] or expedia\\'s virtual customer service agent which launched in 2011.[27][28] the newer generation of chatbots includes ibm watson-powered \"rocky\", introduced in february 2017 by the new york city-based e-commerce company rare carat to provide information to prospective diamond buyers.[29][30]\\n\\ncompany internal platforms\\nother companies explore ways they can use chatbots internally, for example for customer support, human resources, or even in internet-of-things (iot) projects. overstock.com, for one, has reportedly launched a chatbot named mila to automate certain simple yet time-consuming processes when requesting for a sick leave.[31] other large companies such as lloyds banking group, royal bank of scotland, renault and citroën are now using automated online assistants instead of call centres with humans to provide a first point of contact. a saas chatbot business ecosystem has been steadily growing since the f8 conference when facebook\\'s mark zuckerberg unveiled that messenger would allow chatbots into the app.[32] in large companies, like in hospitals and aviation organizations, it architects are designing reference architectures for intelligent chatbots that are used to unlock and share knowledge and experience in the organization more efficiently, and reduce the errors in answers from expert service desks significantly.[33] these intelligent chatbots make use of all kinds of artificial intelligence like image moderation and natural language understanding (nlu), natural language generation (nlg), machine learning and deep learning.\\n\\nbanking\\nnowadays a high majority of high-tech banking organizations are looking for integration of automated ai-based solutions such as chatbots in their customer service in order to provide faster and cheaper assistance to their clients becoming increasingly technodexterous. in particularly, chatbots can efficiently conduct a dialogue, usually substituting other communication tools such as email, phone, or sms. in banking area their major application is related to quick customer service answering common requests, and transactional support.\\n\\nseveral studies accomplished by analytics agencies such as juniper or gartner [34] report significant reduction of cost of customer services, leading to billions of dollars of economy in the next 10 years. gartner predicts an integration by 2020 of chatbots in at least 85% of all client\\'s applications to customer service. juniper\\'s study announces an impressive amount of $8 billion retained annually by 2022 due to the use of chatbots.\\n\\nsince 2016 when facebook allows businesses to deliver automated customer support, e-commerce guidance, content and interactive experiences through chatbots, a large variety of chatbots for facebook messenger platform were developed.[35] in 2016, russia-based tochka bank launched the world\\'s first facebook bot for a range of financial services, in particularly including a possibility of making payments. [36] in july 2016, barclays africa also launched a facebook chatbot, making it the first bank to do so in africa. [37]\\n\\nthe france\\'s third largest bank by total assets [38] societe generale launched their chatbot called sobot in march 2018. while the 80% of users of the sobot express their satisfaction after having tested it, il will never remplace the expertise provided by a human advisor according to sg deputy director bertrand cozzarolo. [39]\\n\\nthere are several potential advantages of using chatbots in interaction with customer in banking:[40]\\n\\ncost reduction. chatbots eliminate the obligation of any human presence during online interaction and are so long seen as a huge advantage by companies operating with multiple repetitive queries at once as long as they don\\'t require any decision-making procedure.[41]\\nhuman touch. chatbots, providing an interface similar to human-to-human interaction, are more intuitive and so less difficult to use than a standard banking mobile application. they doesn\\'t require any additional software installation and are more adaptive as able to be personalized during the exploitation by the means of machine learning. chatbots are instant and so much faster that phone calls, shown to be considered as tedious in some studies. then they satisfy both speed and personalization requirement while interacting with a bank.\\nfinancial advice. state-of-the-art banking assistants can, by accessing personal customer\\'s data such as consumer behavior or history of purchases, provide useful information on client\\'s account and use it to develop ai-based recommendations for better adapted money management.\\nattracting new clients. a chatbot greeting a bank\\'s website guest can provide some useful and relevant information, helping to exploit the offered products and services in a personalized manner helps to attract the potential client and the he is more likely to end by creation of a new account.[40]\\n24/7 digital support. an instant and always accessible assistant is assumed by the more and more digital consumer of the new era.[34] unlike humans, chatbots once developed and installed don\\'t have a limited workdays, holidays or weekends and are ready to attend queries at any hour of the day. it helps to the customer to avoid waiting of a company\\'s agent to be available. thus, the customer doesn\\'t have to wait for the company executive to help them. this also lets companies keep an eye on the traffic during the non-working hours and reach out to them later.[41]\\ntoys\\nchatbots have also been incorporated into devices not primarily meant for computing such as toys.[42]\\n\\nhello barbie is an internet-connected version of the doll that uses a chatbot provided by the company toytalk,[43] which previously used the chatbot for a range of smartphone-based characters for children.[44] these characters\\' behaviors are constrained by a set of rules that in effect emulate a particular character and produce a storyline.[45]\\n\\nibm\\'s watson computer has been used as the basis for chatbot-based educational toys for companies such as cognitoys[42] intended to interact with children for educational purposes.[46]\\n\\nchat-bots in support automation\\n\\nchatbots like morph.ai, haptik, yekaliva[47] are used in business website for providing support. it helps by answering faq\\'s in the first level.\\n\\nchatbots in medicine and for mental health\\naccording to the journal of medical internet research, \"chatbots are [...] increasingly used in particular for mental health applications, prevention and behavior change applications (such as smoking cessation or physical activity interventions).\".[48] they have been shown to serve as a cost-effective and accessible therapeutic agents for indications such as depression and anxiety.[49] a conversational agent called woebot has been shown to significantly reduce depression in young adults.[50]\\n\\nchatbot development platforms\\nthe process of building, testing and deploying chatbots can be done on cloud-based chatbot development platforms[51] offered by cloud platform as a service (paas) providers such as oracle cloud platform yekaliva[47][28] and ibm watson.[52][53][54] these cloud platforms provide natural language processing, artificial intelligence and mobile backend as a service for chatbot development.\\n\\napi\\n\\nsome companies like microsoft azure and aarc are currently providing their bot engines through which chatbot platforms or software can be developed\\n\\nmalicious use\\nmalicious chatbots are frequently used to fill chat rooms with spam and advertisements, by mimicking human behavior and conversations or to entice people into revealing personal information, such as bank account numbers. they are commonly found on yahoo! messenger, windows live messenger, aol instant messenger and other instant messaging protocols. there has also been a published report of a chatbot used in a fake personal ad on a dating service\\'s website.[55]\\n\\ntay, an ai chatbot that learns from previous interaction, caused major controversy due to it being targeted by internet trolls on twitter. the bot was exploited, and after 16 hours began to send extremely offensive tweets to users. this suggests that although the bot learnt effectively from experience, adequate protection was not put in place to prevent misuse.[56]\\n\\nexamples of malicious uses for chatbots\\ndisruption of emergency and support services : \\nthere have been cases of messages sent by people in danger in order to be saved. those texts when received can require important means, both financial and human.[57] such texts could be invented by malicious actors to confound and disturb emergency services for a large array of purposes, including terrorist ones.\\n\\nbullying and harassment : \\nchatbots could be used as weapons on the social networks such as twitter or facebook. an entity or individuals could design create a countless number of chatbots to harass people. they could even try to track how successful their harassment is by using machine-learning-based methods to sharpen their strategies and counteract harassment detection tools.\\n\\nspreading misinformation : \\nif a text-sending algorithm can pass itself off as a human instead of a chatbot, its message would be more credible. therefore, human-seeming chatbots with well-crafted online identities could start scattering fake news that seem plausible, for instance making false claims during a presidential election. with enough chatbots, it might be even possible to achieve artificial social proof.[58][59]\\n\\nlimitations of chatbots\\nthe creation and implementation of chatbots is still a developing area, heavily related to artificial intelligence and machine learning, so the provided solutions, while possessing obvious advantages, have some important limitations in terms of functionalities and use cases. however this is changing over time.\\n\\nthe most common ones are listed below:[60]\\n\\nas the database, used for output generation, is fixed and limited, chatbots can fail while dealing with an unsaved query.[41]\\nchatbot\\'s efficiency highly depends on language processing and is limited because of irregularities, such as accents and mistakes that can create an important barrier for international and multi-cultural organisations [61]\\nchatbots are unable to deal with multiple questions at the same time and so conversation opportunities are limited.[60]\\nas it happens usually with technology-led changes in existing services, some consumers, more often than not from the old generation, are uncomfortable with chatbots due to their limited understanding, making it obvious that their requests are being dealt machines.[60]\\nchatbots killing jobs\\nchatbots are predicted to be progressively present in businesses and will automate tasks that do not require skill-based talents. companies are getting smarter with touchpoints and customer service now comes in the form of instant messenger, as well as phone calls. ibm recently predicted that 85% of customer service enquiries will be handled by ai as early as 2020.[62] the call centre workers may be particularly at risk from ai.[63]\\n\\na study by forrester (june 2017) predicts that 25% of today\\'s jobs will most likely be impacted by ai technologies by 2019.[64]\\n\\nsee also\\napplications of artificial intelligence\\neugene goostman\\ninteractive online characters\\nsocial bot\\ntwitterbot\\nlist of chatterbots\\ncitations\\n \"what is a chatbot?\". techtarget.com. retrieved 30 january 2017.\\n mauldin 1994\\n orf, darren. \"google assistant is a mega ai bot that wants to be absoutely everywhere\".\\n \"the 8 best chatbots of 2016\". 21 december 2016.\\n \"2017 messenger bot landscape, a public spreadsheet gathering 1000+ messenger bots\". 3 may 2017.\\n https://georgianpartners.com/investment-thesis-areas/overview-conversational-ai/\\n (turing 1950)\\n (weizenbaum 1966, p. 36)\\n (weizenbaum 1966, pp. 44–5)\\n güzelderefranchi 1995\\n computer history museum 2006\\n sondheim 1997\\n network working group 1973—transcript of a session between parry and eliza. (this is not the dialogue from the iccc, which took place october 24–26, 1972, whereas this session is from september 18, 1972.)\\n www.everything.com 13 november 1999\\n ‹see tfd›(in german) chatroboter simulieren menschen\\n beaver, laurie (july 2016). the chatbots explainer. bi intelligence.\\n \"facebook messenger hits 100,000 bots\". 2017-04-18. retrieved 2017-09-22.\\n \"klm claims airline first with whatsapp business platform\".\\n staff, forbes (26 october 2017). \"aeroméxico te atenderá por whatsapp durante 2018\". retrieved 2 july 2018.\\n redacción (27 october 2017). \"podrás hacer \\'check in\\' y consultar tu vuelo con aeroméxico a través de whatsapp\". huffington post. retrieved 2 july 2018 – via huff post.\\n \"building for people, and now businesses\". whatsapp.com. retrieved 2 july 2018.\\n \"she is the company\\'s most effective employee\". nordea news.\\n \"better believe the bot boom is blowing up big for b2b, b2c businesses\". venturebeat. 2016-07-24.\\n \"chatbots take education to the next level – chatbot news daily\". chatbot news daily. 2016-09-29. retrieved 2017-06-23.\\n \"the ai revolution is underway! – pm360\". www.pm360online.com. retrieved 2 july 2018.\\n \"80% of businesses want chatbots by 2020\". retrieved 2 july 2018.\\n \"a virtual travel agent with all the answers\". the new york times. 4 march 2008.\\n \"chatbot vendor directory released –\". www.hypergridbusiness.com.\\n \"rare carat\\'s watson-powered chatbot will help you put a diamond ring on it\". techcrunch. february 15, 2017.\\n \"10 ways you may have already used ibm watson\". venturebeat. march 10, 2017.\\n greenfield, rebecca. \"chatbots are your newest, dumbest co-workers\". bloomberg.\\n \"facebook opens its messenger platform to chatbots\". 12 april 2016.\\n \"chatbot reference architecture\". 1 january 2019.\\n \"how chatbots are transforming wall street and main street banks?\". 1 april 2019.\\n \"facebook launches messenger platrofm with chatbots\". 1 april 2019.\\n \"российский банк запустил чат-бота в facebook\". 1 april 2019.\\n \"absa launches \\'world-first\\' facebook messenger banking\". 1 april 2019.\\n \"the biggest french banks by total assets\". banks around the world. retrieved april 1, 2019.\\n \"gagner du temps avec le chatbot bancaire pour gagner en intelligence avec les conseillers\". marketing client. retrieved april 1, 2019.\\n \"meet 11 of the most interesting chatbots in banking\". the financial brain. retrieved april 1, 2019.\\n \"chatbots: boon or bane?\". bluelupin. retrieved april 1, 2019.\\n amy (2015-02-23). \"conversational toys – the latest trend in speech technology\". virtual agent chat. retrieved 2016-08-11.\\n nagy, evie. \"using toytalk technology, new hello barbie will have real conversations with kids\". fast company. retrieved 18 march 2015.\\n oren jacob, the co-founder and ceo of toytalk interviewed on the tv show triangulation on the twit.tv network\\n \"artificial intelligence script tool\".\\n takahashi, dean. \"elemental\\'s smart connected toy taps ibm\\'s watson supercomputer for its brains\". venture beat. retrieved 15 may 2015.\\n \"top 60 chatbots\".\\n \"jmir e-collection \"chatbots and conversational agents in health and medicine\"\". journal of medical internet research. jmir publications.\\n fulmer, r; joerin, a; gentile, b; lakerink, l; rauws, m (13 december 2018). \"using psychological artificial intelligence (tess) to relieve symptoms of depression and anxiety: randomized controlled trial\". jmir mental health. 5 (4): e64. doi:10.2196/mental.9782. pmc 6315222. pmid 30545815.\\n fitzpatrick, kk; darcy, a; vierhile, m (6 june 2017). \"delivering cognitive behavior therapy to young adults with symptoms of depression and anxiety using a fully automated conversational agent (woebot): a randomized controlled trial\". jmir mental health. 4 (2): e19. doi:10.2196/mental.7785. pmc 5478797. pmid 28588005.\\n yuan, michael (2018-02-19). chatbots: building intelligent, cross-platform, messaging bots. pearson education. isbn 9780134650616.\\n \"oracle launches a chatbot development platform | venturebeat\". venturebeat.com. retrieved 2017-11-15.\\n \"oracle introduces ai-powered intelligent bots to help enterprises engage customers and employees\". www.oracle.com. retrieved 2017-11-15.\\n \"mobile service | oracle cloud\". cloud.oracle.com. retrieved 2017-11-15.\\n \"from russia with love\" (pdf). retrieved 2007-12-09. psychologist and scientific american: mind contributing editor robert epstein reports how he was initially fooled by a chatterbot posing as an attractive girl in a personal ad he answered on a dating website. in the ad, the girl portrayed herself as being in southern california and then soon revealed, in poor english, that she was actually in russia. he became suspicious after a couple of months of email exchanges, sent her an email test of gibberish, and she still replied in general terms. the dating website is not named. scientific american: mind, october–november 2007, page 16–17, \"from russia with love: how i got fooled (and somewhat humiliated) by a computer\". also available online.\\n bird, jordan j.; ekart, aniko; faria, diego r. (june 2018). advances in computational intelligence systems (1st ed.). nottingham, uk: springer. pp. 179–190. isbn 978-3-319-97982-3. retrieved 3 december 2018.\\n \"an afghan kid saved thanks to a message he sent\". retrieved 2016-04-08.\\n \"fake news\". retrieved 2018-11-20.\\n \"malicious uses\". retrieved 2016-05-11.\\n \"meet 11 of the most interesting chatbots in banking\". retrieved 2019-04-01.\\n \"why chatbots fail (and why natural languages are hard)\". retrieved 2019-04-01.\\n \"artificial intelligence will kill these jobs (and #5 has nobody else to blame)\". retrieved 2019-04-01.\\n \"how talking machines are taking call centre jobs\". retrieved 2019-04-01.\\n \"how chatbots are killing jobs (and creating new ones)\". june 2017. retrieved 2019-04-01.\\nreferences\\ncomputer history museum (2006), \"internet history—1970\\'s\", exhibits, computer history museum, archived from the original on 2008-02-21, retrieved 2008-03-05\\ngüzeldere, güven; franchi, stefano (1995-07-24), \"constructions of the mind\", stanford humanities review, sehr, stanford university, 4 (2), retrieved 2008-03-05\\nmauldin, michael (1994), \"chatterbots, tinymuds, and the turing test: entering the loebner prize competition\", proceedings of the eleventh national conference on artificial intelligence, aaai press, retrieved 2008-03-05 (abstract)\\nnetwork working group (1973), \"rfc 439, parry encounters the doctor\", internet engineering task force, internet society, retrieved 2008-03-05\\nsondheim, alan j (1997), <nettime> important documents from the early internet (1972), nettime.org, archived from the original on 2008-06-13, retrieved 2008-03-05\\nsearle, john (1980), \"minds, brains and programs\", behavioral and brain sciences, 3 (3): 417–457, doi:10.1017/s0140525x00005756\\nshevat, amir (2017). designing bots: creating conversational experiences (first ed.). sebastopol, ca: o\\'reilly media. isbn 9781491974827. oclc 962125282.\\nturing, alan (1950), \"computing machinery and intelligence\", mind, 59 (236): 433–60, doi:10.1093/mind/lix.236.433\\nweizenbaum, joseph (january 1966), \"eliza—a computer program for the study of natural language communication between man and machine\", communications of the acm, 9 (1): 36–45, doi:10.1145/365153.365168\\nvte\\nnatural language processing\\nglobe of letters.svglanguage portal\\ncategories: chatterbotsinstant messaginginteractive narrativenatural language parsing\\nnavigation menu\\nnot logged intalkcontributionscreate accountlog inarticletalkreadeditview historysearch\\nsearch wikipedia\\nmain page\\ncontents\\nfeatured content\\ncurrent events\\nrandom article\\ndonate to wikipedia\\nwikipedia store\\ninteraction\\nhelp\\nabout wikipedia\\ncommunity portal\\nrecent changes\\ncontact page\\ntools\\nwhat links here\\nrelated changes\\nupload file\\nspecial pages\\npermanent link\\npage information\\nwikidata item\\ncite this page\\nin other projects\\nwikimedia commons\\nwikibooks\\nprint/export\\ncreate a book\\ndownload as pdf\\nprintable version\\n\\nlanguages\\nالعربية\\nবাংলা\\nespañol\\nfrançais\\nbahasa indonesia\\nportuguês\\nрусский\\nதமிழ்\\n中文\\n23 more\\nedit links\\nthis page was last edited on 22 may 2019, at 23:08 (utc).\\ntext is available under the creative commons attribution-sharealike license; additional terms may apply. by using this site, you agree to the terms of use and privacy policy. wikipedia® is a registered trademark of the wikimedia foundation, inc., a non-profit organization.\\nprivacy policyabout wikipediadisclaimerscontact wikipediadeveloperscookie statementmobile viewwikimedia foundation powered by mediawiki'"
            ]
          },
          "metadata": {},
          "execution_count": 8
        }
      ]
    },
    {
      "cell_type": "markdown",
      "metadata": {
        "id": "pQMbWKz2KvXP"
      },
      "source": [
        "\n",
        "The main issue with text data is that it is all in text format (strings). However, the Machine learning algorithms need some sort of numerical feature vector in order to perform the task. So before we start with any NLP project we need to pre-process it to make it ideal for working. Basic text pre-processing includes:\n",
        "\n",
        "* Converting the entire text into **uppercase** or **lowercase**, so that the algorithm does not treat the same words in different cases as different\n",
        "\n",
        "* **Tokenization**: Tokenization is just the term used to describe the process of converting the normal text strings into a list of tokens i.e words that we actually want. Sentence tokenizer can be used to find the list of sentences and Word tokenizer can be used to find the list of words in strings.\n",
        "\n",
        "_The NLTK data package includes a pre-trained Punkt tokenizer for English._\n",
        "\n",
        "* Removing **Noise** i.e everything that isn’t in a standard number or letter.\n",
        "* Removing the **Stop words**. Sometimes, some extremely common words which would appear to be of little value in helping select documents matching a user need are excluded from the vocabulary entirely. These words are called stop words\n",
        "* **Stemming**: Stemming is the process of reducing inflected (or sometimes derived) words to their stem, base or root form — generally a written word form. Example if we were to stem the following words: “Stems”, “Stemming”, “Stemmed”, “and Stemtization”, the result would be a single word “stem”.\n",
        "* **Lemmatization**: A slight variant of stemming is lemmatization. The major difference between these is, that, stemming can often create non-existent words, whereas lemmas are actual words. So, your root stem, meaning the word you end up with, is not something you can just look up in a dictionary, but you can look up a lemma. Examples of Lemmatization are that “run” is a base form for words like “running” or “ran” or that the word “better” and “good” are in the same lemma so they are considered the same.\n",
        "\n"
      ]
    },
    {
      "cell_type": "markdown",
      "metadata": {
        "id": "hOWyEgMdKvXQ"
      },
      "source": [
        "## Tokenisation"
      ]
    },
    {
      "cell_type": "code",
      "metadata": {
        "id": "ZpjjYkZNKvXS"
      },
      "source": [
        "sent_tokens = nltk.sent_tokenize(raw)# converts to list of sentences **\n",
        "word_tokens = nltk.word_tokenize(raw)# converts to list of words **"
      ],
      "execution_count": null,
      "outputs": []
    },
    {
      "cell_type": "markdown",
      "metadata": {
        "id": "iYWPNkqjKvXa"
      },
      "source": [
        "## Preprocessing\n",
        "\n",
        "We shall now define a function called LemTokens which will take as input the tokens and return normalized tokens."
      ]
    },
    {
      "cell_type": "code",
      "source": [
        "lemmer = nltk.stem.WordNetLemmatizer()\n",
        "#WordNet is a semantically-oriented dictionary of English included in NLTK.\n",
        "def LemTokens(tokens):\n",
        "    return [lemmer.lemmatize(token) for token in tokens]\n",
        "remove_punct_dict = dict((ord(punct), None) for punct in string.punctuation)\n",
        "\n",
        "def LemNormalize(text):\n",
        "    return LemTokens(nltk.word_tokenize(text.lower().translate(remove_punct_dict)))"
      ],
      "metadata": {
        "id": "xT3pwZAxRyqa"
      },
      "execution_count": null,
      "outputs": []
    },
    {
      "cell_type": "markdown",
      "metadata": {
        "id": "1cMGjW5eKvXh"
      },
      "source": [
        "## Keyword matching\n",
        "\n",
        "Next, we shall define a function for a greeting by the bot i.e if a user’s input is a greeting, the bot shall return a greeting response.ELIZA uses a simple keyword matching for greetings. We will utilize the same concept here."
      ]
    },
    {
      "cell_type": "code",
      "source": [
        "GREETING_INPUTS = (\"hello\", \"hi\", \"greetings\", \"sup\", \"what's up\",\"hey\",)\n",
        "GREETING_RESPONSES = [\"hi\", \"hey\", \"*nods*\", \"hi there\", \"hello\", \"I am glad! You are talking to me\"]\n",
        "def greeting(sentence):\n",
        " \n",
        "    for word in sentence.split():\n",
        "        if word.lower() in GREETING_INPUTS:\n",
        "            return random.choice(GREETING_RESPONSES)"
      ],
      "metadata": {
        "id": "ljlqTjNLR8yb"
      },
      "execution_count": null,
      "outputs": []
    },
    {
      "cell_type": "markdown",
      "metadata": {
        "id": "E5s2xQt9KvXq"
      },
      "source": [
        "## Generating Response\n",
        "\n",
        "### Bag of Words\n",
        "After the initial preprocessing phase, we need to transform text into a meaningful vector (or array) of numbers. The bag-of-words is a representation of text that describes the occurrence of words within a document. It involves two things:\n",
        "\n",
        "* A vocabulary of known words.\n",
        "\n",
        "* A measure of the presence of known words.\n",
        "\n",
        "Why is it is called a “bag” of words? That is because any information about the order or structure of words in the document is discarded and the model is only **concerned with whether the known words occur in the document, not where they occur in the document.**\n",
        "\n",
        "The intuition behind the Bag of Words is that documents are similar if they have similar content. Also, we can learn something about the meaning of the document from its content alone.\n",
        "\n",
        "For example, if our dictionary contains the words {Learning, is, the, not, great}, and we want to vectorize the text “Learning is great”, we would have the following vector: (1, 1, 0, 0, 1).\n",
        "\n",
        "\n",
        "### TF-IDF Approach\n",
        "A problem with the Bag of Words approach is that highly frequent words start to dominate in the document (e.g. larger score), but may not contain as much “informational content”. Also, it will give more weight to longer documents than shorter documents.\n",
        "\n",
        "One approach is to rescale the frequency of words by how often they appear in all documents so that the scores for frequent words like “the” that are also frequent across all documents are penalized. This approach to scoring is called Term Frequency-Inverse Document Frequency, or TF-IDF for short, where:\n",
        "\n",
        "**Term Frequency: is a scoring of the frequency of the word in the current document.**\n",
        "\n",
        "```\n",
        "TF = (Number of times term t appears in a document)/(Number of terms in the document)\n",
        "```\n",
        "\n",
        "**Inverse Document Frequency: is a scoring of how rare the word is across documents.**\n",
        "\n",
        "```\n",
        "IDF = 1+log(N/n), where, N is the number of documents and n is the number of documents a term t has appeared in.\n",
        "```\n",
        "### Cosine Similarity\n",
        "\n",
        "Tf-idf weight is a weight often used in information retrieval and text mining. This weight is a statistical measure used to evaluate how important a word is to a document in a collection or corpus\n",
        "\n",
        "```\n",
        "Cosine Similarity (d1, d2) =  Dot product(d1, d2) / ||d1|| * ||d2||\n",
        "```\n",
        "where d1,d2 are two non zero vectors.\n",
        "\n"
      ]
    },
    {
      "cell_type": "markdown",
      "metadata": {
        "id": "wVj3j4L2KvXr"
      },
      "source": [
        "To generate a response from our bot for input questions, the concept of document similarity will be used. We define a function response which searches the user’s utterance for one or more known keywords and returns one of several possible responses. If it doesn’t find the input matching any of the keywords, it returns a response:” I am sorry! I don’t understand you”"
      ]
    },
    {
      "cell_type": "code",
      "source": [
        "def response(user_response):\n",
        "    robo_response=''\n",
        "    sent_tokens.append(user_response)\n",
        "    TfidfVec = TfidfVectorizer(tokenizer=LemNormalize, stop_words='english')\n",
        "    tfidf = TfidfVec.fit_transform(sent_tokens)\n",
        "    vals = cosine_similarity(tfidf[-1], tfidf)\n",
        "    idx=vals.argsort()[0][-2]\n",
        "    flat = vals.flatten()\n",
        "    flat.sort()\n",
        "    req_tfidf = flat[-2]\n",
        "    if(req_tfidf==0):\n",
        "        robo_response=robo_response+\"I am sorry! I don't understand you\"\n",
        "        return robo_response\n",
        "    else:\n",
        "        robo_response = robo_response+sent_tokens[idx]\n",
        "        return robo_response"
      ],
      "metadata": {
        "id": "njsf4Z91SH7h"
      },
      "execution_count": null,
      "outputs": []
    },
    {
      "cell_type": "markdown",
      "metadata": {
        "id": "hdYVNkltKvXz"
      },
      "source": [
        "Finally, we will feed the lines that we want our bot to say while starting and ending a conversation depending upon user’s input."
      ]
    },
    {
      "cell_type": "code",
      "source": [
        "flag=True\n",
        "print(\"ROBO: My name is Robo. I will answer your queries about Chatbots. If you want to exit, type Bye!\")\n",
        "while(flag==True):\n",
        "    user_response = input()\n",
        "    user_response=user_response.lower()\n",
        "    if(user_response!='bye'):\n",
        "        if(user_response=='thanks' or user_response=='thank you' ):\n",
        "            flag=False\n",
        "            print(\"ROBO: You are welcome..\")\n",
        "        else:\n",
        "            if(greeting(user_response)!=None):\n",
        "                print(\"ROBO: \"+greeting(user_response))\n",
        "            else:\n",
        "                print(\"ROBO: \",end=\"\")\n",
        "                print(response(user_response))\n",
        "                sent_tokens.remove(user_response)\n",
        "    else:\n",
        "        flag=False\n",
        "        print(\"ROBO: Bye! take care..\")"
      ],
      "metadata": {
        "colab": {
          "base_uri": "https://localhost:8080/"
        },
        "id": "BxeOY-uaSP8J",
        "outputId": "a4c4b7b1-7701-49a6-8a1a-244442239af6"
      },
      "execution_count": null,
      "outputs": [
        {
          "output_type": "stream",
          "name": "stdout",
          "text": [
            "ROBO: My name is Robo. I will answer your queries about Chatbots. If you want to exit, type Bye!\n",
            "hinda\n",
            "ROBO: I am sorry! I don't understand you\n",
            "Robo\n",
            "ROBO: I am sorry! I don't understand you\n",
            "Bye\n",
            "ROBO: Bye! take care..\n"
          ]
        }
      ]
    }
  ]
}