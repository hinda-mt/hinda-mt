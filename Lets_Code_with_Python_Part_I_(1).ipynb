{
  "cells": [
    {
      "cell_type": "markdown",
      "metadata": {
        "id": "view-in-github",
        "colab_type": "text"
      },
      "source": [
        "<a href=\"https://colab.research.google.com/github/hinda-mt/hinda-mt/blob/main/Lets_Code_with_Python_Part_I_(1).ipynb\" target=\"_parent\"><img src=\"https://colab.research.google.com/assets/colab-badge.svg\" alt=\"Open In Colab\"/></a>"
      ]
    },
    {
      "cell_type": "markdown",
      "metadata": {
        "id": "VvcRksnBk_pC"
      },
      "source": [
        "<h1 align='center'>Python, Data Types, Expressions and Variables</h1>"
      ]
    },
    {
      "cell_type": "markdown",
      "metadata": {
        "id": "H_G7mXJpk_pK"
      },
      "source": [
        "## I. Say \"Hello\" to the world in Python\n",
        "\n",
        "When learning a new programming language, it is customary to start with an \"hello world\" example."
      ]
    },
    {
      "cell_type": "code",
      "execution_count": null,
      "metadata": {
        "id": "RF4AzBZKk_pO"
      },
      "outputs": [],
      "source": [
        "print(\"Hello world\")"
      ]
    },
    {
      "cell_type": "markdown",
      "metadata": {
        "id": "h1JLp1WMk_pR"
      },
      "source": [
        "**What version of Python are we using?**\n",
        "\n",
        "There are two popular versions of the Python programming language in use today: Python 2 and Python 3. The Python community has decided to move on from Python 2 to Python 3, and many popular libraries have announced that they will no longer support Python 2."
      ]
    },
    {
      "cell_type": "code",
      "execution_count": null,
      "metadata": {
        "id": "m2QOcoTik_pS"
      },
      "outputs": [],
      "source": [
        "import sys\n",
        "\n",
        "print(sys.version)"
      ]
    },
    {
      "cell_type": "markdown",
      "metadata": {
        "id": "-IPZl4Nqk_pT"
      },
      "source": [
        "<hr/>\n",
        "<div class=\"alert alert-success alertsuccess\" style=\"margin-top: 20px\">\n",
        "    [Tip:] <code>sys</code> is a built-in module that contains many system-specific parameters and functions, including the Python version in use. Before using it, we must explictly <code>import</code> it.\n",
        "</div>\n",
        "<hr/>"
      ]
    },
    {
      "cell_type": "markdown",
      "metadata": {
        "id": "AnU57hWxk_pV"
      },
      "source": [
        "**Writing comments in Python**\n",
        "\n",
        "In addition to writing code, note that it's always a good idea to add comments to your code. It will help others understand what you were trying to accomplish (the reason why you wrote a given snippet of code). Not only does this help other people understand your code, it can also serve as a reminder to you when you come back to it weeks or months later.\n",
        "\n",
        "To write comments in Python, use the number symbol # before writing your comment. When you run your code, Python will ignore everything past the # on a given line."
      ]
    },
    {
      "cell_type": "code",
      "execution_count": null,
      "metadata": {
        "id": "rOqm3YF9k_pW"
      },
      "outputs": [],
      "source": [
        "# Practice on writing comments\n",
        "\n",
        "print('Hello, Python!') # This line prints a string\n",
        "# print('Hi')"
      ]
    },
    {
      "cell_type": "markdown",
      "metadata": {
        "id": "gvi_B4_vk_pX"
      },
      "source": [
        "**Errors in Python**\n",
        "\n",
        "Everyone makes mistakes. For many types of mistakes, Python will tell you that you have made a mistake by giving you an error message. It is important to read error messages carefully to really understand where you made a mistake and how you may go about correcting it."
      ]
    },
    {
      "cell_type": "code",
      "execution_count": null,
      "metadata": {
        "id": "-DZOSW9pk_pZ"
      },
      "outputs": [],
      "source": [
        "# Print string as error message\n",
        "\n",
        "frint(\"Hello, Python!\")"
      ]
    },
    {
      "cell_type": "markdown",
      "metadata": {
        "id": "darPcO0Ak_pa"
      },
      "source": [
        "The error message tells you:\n",
        "\n",
        "1. where the error occurred (more useful in large notebook cells or scripts), and\n",
        "2. what kind of error it was (NameError)\n",
        "\n",
        "You'll notice that if we make a different type of mistake, by forgetting to close the string, we'll obtain a different error (i.e., a SyntaxError):"
      ]
    },
    {
      "cell_type": "code",
      "execution_count": null,
      "metadata": {
        "id": "qFF8_FCxk_pb"
      },
      "outputs": [],
      "source": [
        "# Try to see build in error message\n",
        "\n",
        "print(\"Hello, Python!)"
      ]
    },
    {
      "cell_type": "markdown",
      "metadata": {
        "id": "mmCMKZygk_pb"
      },
      "source": [
        "**Does Python know about your error before it runs your code?**\n",
        "\n",
        "Python is what is called an interpreted language. Compiled languages examine your entire program at compile time, and are able to warn you about a whole class of errors prior to execution. In contrast, Python interprets your script line by line as it executes it. Python will stop executing the entire program when it encounters an error (unless the error is expected and handled by the programmer)"
      ]
    },
    {
      "cell_type": "code",
      "execution_count": null,
      "metadata": {
        "id": "GqSlmxYsk_pe"
      },
      "outputs": [],
      "source": [
        "# Print string and error to see the running order\n",
        "\n",
        "print(\"This will be printed\")\n",
        "frint(\"This will cause an error\")\n",
        "print(\"This will NOT be printed\")"
      ]
    },
    {
      "cell_type": "markdown",
      "metadata": {
        "id": "9XzXKv6Xk_pg"
      },
      "source": [
        "**Exercise**\n",
        "\n",
        "Generations of programmers have started their coding careers by simply printing \"Hello, world!\". You will be following in their footsteps.\n",
        "\n",
        "In the code cell below, use the `print()` function to print out the phrase: `Hello, world!` Enhance your code by adding a comment to it with `the phrase Print the traditional hello world` all in one line of code."
      ]
    },
    {
      "cell_type": "code",
      "execution_count": null,
      "metadata": {
        "id": "nULuXkk9k_pg"
      },
      "outputs": [],
      "source": [
        ""
      ]
    },
    {
      "cell_type": "markdown",
      "metadata": {
        "id": "iqwdH3Lwk_ph"
      },
      "source": [
        "## II. Types of objects in Python\n",
        "Python is an object-oriented language. There are many different types of objects in Python. Let's start with the most common object types: strings, integers and floats.\n",
        "\n",
        "<a align=\"center\">\n",
        "    <img src=\"https://s3-api.us-geo.objectstorage.softlayer.net/cf-courses-data/CognitiveClass/PY0101EN/Chapter%201/Images/TypesObjects.png\" width=\"600\">\n",
        "</a>"
      ]
    },
    {
      "cell_type": "markdown",
      "metadata": {
        "id": "_mbrF7SUk_ph"
      },
      "source": [
        "You can get Python to tell you the type of an expression by using the built-in `type()` function. You'll notice that Python refers to integers as `int`, floats as `float`, and character strings as `str`."
      ]
    },
    {
      "cell_type": "code",
      "execution_count": null,
      "metadata": {
        "id": "R_L61O2Ik_pi"
      },
      "outputs": [],
      "source": [
        "type(12)"
      ]
    },
    {
      "cell_type": "code",
      "execution_count": null,
      "metadata": {
        "id": "Vx5c6lFLk_pi"
      },
      "outputs": [],
      "source": [
        "type(2.14)"
      ]
    },
    {
      "cell_type": "code",
      "execution_count": null,
      "metadata": {
        "id": "gvtY6wNyk_pj"
      },
      "outputs": [],
      "source": [
        "type(\"Hello, Python 101!\")"
      ]
    },
    {
      "cell_type": "markdown",
      "metadata": {
        "id": "A0sLFwPjk_pk"
      },
      "source": [
        "**Converting from one object type to a different object type**\n",
        "\n",
        "You can change the type of the object in Python; this is called typecasting. For example, you can convert an integer into a float (e.g. 2 to 2.0)."
      ]
    },
    {
      "cell_type": "code",
      "execution_count": null,
      "metadata": {
        "id": "SP2IlME9k_pk"
      },
      "outputs": [],
      "source": [
        "# Convert 2 to a float\n",
        "\n",
        "float(2)"
      ]
    },
    {
      "cell_type": "markdown",
      "metadata": {
        "id": "vrKz-04Vk_pl"
      },
      "source": [
        "When we convert an integer into a float, we don't really change the value (i.e., the significand) of the number. However, if we cast a float into an integer, we could potentially lose some information."
      ]
    },
    {
      "cell_type": "code",
      "execution_count": null,
      "metadata": {
        "id": "of-tiyTfk_pm"
      },
      "outputs": [],
      "source": [
        "int(1.1)"
      ]
    },
    {
      "cell_type": "markdown",
      "metadata": {
        "id": "j1CbpaBak_pm"
      },
      "source": [
        "Sometimes, we can have a string that contains a number within it. If this is the case, we can cast that string that represents a number into an integer using `int()`:"
      ]
    },
    {
      "cell_type": "code",
      "execution_count": null,
      "metadata": {
        "id": "-w_pPENdk_pm"
      },
      "outputs": [],
      "source": [
        "# Convert a string into an integer\n",
        "\n",
        "int('1')"
      ]
    },
    {
      "cell_type": "code",
      "execution_count": null,
      "metadata": {
        "id": "XtROC8wok_pn"
      },
      "outputs": [],
      "source": [
        "# Convert a string into an integer with error\n",
        "\n",
        "int('1 or 2 people')"
      ]
    },
    {
      "cell_type": "markdown",
      "metadata": {
        "id": "wLAfjk7tk_pn"
      },
      "source": [
        "If we can convert strings to numbers, it is only natural to assume that we can convert numbers to strings."
      ]
    },
    {
      "cell_type": "code",
      "execution_count": null,
      "metadata": {
        "id": "hvW7b4HAk_po"
      },
      "outputs": [],
      "source": [
        "str(1)"
      ]
    },
    {
      "cell_type": "markdown",
      "metadata": {
        "id": "lkkIniDRk_po"
      },
      "source": [
        "**Boolean data type**\n",
        "\n",
        "Boolean is another important type in Python. An object of type Boolean can take on one of two values: `True` or `False`:"
      ]
    },
    {
      "cell_type": "code",
      "execution_count": null,
      "metadata": {
        "id": "cyAR1qEMk_po"
      },
      "outputs": [],
      "source": [
        "# Type of True\n",
        "\n",
        "type(True)"
      ]
    },
    {
      "cell_type": "markdown",
      "metadata": {
        "id": "OintnHJHk_pp"
      },
      "source": [
        "We can cast boolean objects to other data types."
      ]
    },
    {
      "cell_type": "code",
      "execution_count": null,
      "metadata": {
        "id": "zMVXXrfHk_pp"
      },
      "outputs": [],
      "source": [
        "# Convert True to int\n",
        "\n",
        "int(True)"
      ]
    },
    {
      "cell_type": "code",
      "execution_count": null,
      "metadata": {
        "id": "yExnXEGKk_pp"
      },
      "outputs": [],
      "source": [
        "# Convert 1 to boolean\n",
        "\n",
        "bool(1)"
      ]
    },
    {
      "cell_type": "code",
      "execution_count": null,
      "metadata": {
        "id": "RAg3nxkDk_pq"
      },
      "outputs": [],
      "source": [
        "# Convert 0 to boolean\n",
        "\n",
        "bool(0)"
      ]
    },
    {
      "cell_type": "markdown",
      "metadata": {
        "id": "gn0573eak_pr"
      },
      "source": [
        "**Exercise**\n",
        "\n",
        "What is the data type of `6//2`?"
      ]
    },
    {
      "cell_type": "code",
      "execution_count": null,
      "metadata": {
        "id": "rEIm_oBvk_pr"
      },
      "outputs": [],
      "source": [
        ""
      ]
    },
    {
      "cell_type": "markdown",
      "metadata": {
        "id": "j6ac9ob4k_ps"
      },
      "source": [
        "## III. Expression and Variables\n",
        "\n",
        "**Expressions**\n",
        "\n",
        "Expressions in Python can include operations among compatible types (e.g., integers and floats). For example, basic arithmetic operations like adding multiple numbers:"
      ]
    },
    {
      "cell_type": "code",
      "execution_count": null,
      "metadata": {
        "id": "5l1uOGhyk_ps"
      },
      "outputs": [],
      "source": [
        "# Addition operation expression\n",
        "\n",
        "43 + 60 + 16 + 41"
      ]
    },
    {
      "cell_type": "code",
      "execution_count": null,
      "metadata": {
        "id": "krP0s91Jk_ps"
      },
      "outputs": [],
      "source": [
        "# Subtraction operation expression\n",
        "\n",
        "50 - 60"
      ]
    },
    {
      "cell_type": "code",
      "execution_count": null,
      "metadata": {
        "id": "6sDlNeoYk_pt"
      },
      "outputs": [],
      "source": [
        "# Multiplication operation expression\n",
        "\n",
        "5 * 5"
      ]
    },
    {
      "cell_type": "code",
      "execution_count": null,
      "metadata": {
        "id": "uHMYYfx_k_pv"
      },
      "outputs": [],
      "source": [
        "# Division operation expression\n",
        "\n",
        "25 / 5"
      ]
    },
    {
      "cell_type": "code",
      "execution_count": null,
      "metadata": {
        "id": "UPWBCoWPk_pv"
      },
      "outputs": [],
      "source": [
        "# Integer division operation expression\n",
        "\n",
        "25 // 5"
      ]
    },
    {
      "cell_type": "markdown",
      "metadata": {
        "id": "RGj8q9kPk_pw"
      },
      "source": [
        "Python follows well accepted mathematical conventions when evaluating mathematical expressions."
      ]
    },
    {
      "cell_type": "code",
      "execution_count": null,
      "metadata": {
        "id": "_PZE7sFvk_pw"
      },
      "outputs": [],
      "source": [
        "# Mathematical expression\n",
        "\n",
        "30 + 2 * 60"
      ]
    },
    {
      "cell_type": "code",
      "execution_count": null,
      "metadata": {
        "id": "ASxRkTu3k_pw"
      },
      "outputs": [],
      "source": [
        "# Mathematical expression 2\n",
        "\n",
        "(30 + 2) * 60"
      ]
    },
    {
      "cell_type": "markdown",
      "metadata": {
        "id": "UP63s6pik_px"
      },
      "source": [
        "**Variables**\n",
        "\n",
        "Just like with most programming languages, we can store values in variables, so we can use them later on. For example:"
      ]
    },
    {
      "cell_type": "code",
      "execution_count": null,
      "metadata": {
        "id": "qQHCyxfFk_px"
      },
      "outputs": [],
      "source": [
        "# Store value into variable\n",
        "\n",
        "x = 43 + 60 + 16 + 41"
      ]
    },
    {
      "cell_type": "code",
      "execution_count": null,
      "metadata": {
        "id": "BzVcGeW8k_px"
      },
      "outputs": [],
      "source": [
        "# Print out the value in variable\n",
        "\n",
        "x"
      ]
    },
    {
      "cell_type": "markdown",
      "metadata": {
        "id": "O7Xx-sxCk_py"
      },
      "source": [
        "We can also perform operations on x and save the result to a new variable:"
      ]
    },
    {
      "cell_type": "code",
      "execution_count": null,
      "metadata": {
        "id": "IQnGj--xk_py"
      },
      "outputs": [],
      "source": [
        "# Use another variable to store the result of the operation between variable and value\n",
        "\n",
        "y = x / 60\n",
        "y"
      ]
    },
    {
      "cell_type": "markdown",
      "metadata": {
        "id": "Ad-t7Xysk_pz"
      },
      "source": [
        "If we save a value to an existing variable, the new value will overwrite the previous value:"
      ]
    },
    {
      "cell_type": "code",
      "execution_count": null,
      "metadata": {
        "id": "KR98rsPZk_pz"
      },
      "outputs": [],
      "source": [
        "# Overwrite variable with new value\n",
        "\n",
        "x = x / 60\n",
        "x"
      ]
    },
    {
      "cell_type": "markdown",
      "metadata": {
        "id": "Yyih0JIvk_pz"
      },
      "source": [
        "It's a good practice to use meaningful variable names, so you and others can read the code and understand it more easily:"
      ]
    },
    {
      "cell_type": "code",
      "execution_count": null,
      "metadata": {
        "id": "UGV4GPcok_p0"
      },
      "outputs": [],
      "source": [
        "# Name the variables meaningfully\n",
        "\n",
        "total_min = 43 + 42 + 57 # Total length of albums in minutes\n",
        "total_min"
      ]
    },
    {
      "cell_type": "code",
      "execution_count": null,
      "metadata": {
        "id": "KAZRtacNk_p0"
      },
      "outputs": [],
      "source": [
        "# Name the variables meaningfully\n",
        "\n",
        "total_hours = total_min / 60 # Total length of albums in hours \n",
        "total_hours"
      ]
    },
    {
      "cell_type": "markdown",
      "metadata": {
        "id": "9bmiY__qk_p0"
      },
      "source": [
        "**Exercise**\n",
        "\n",
        "What is the value of `x` where `x = 3 + 2 * 2`"
      ]
    },
    {
      "cell_type": "code",
      "execution_count": null,
      "metadata": {
        "id": "99A-okq3k_p1"
      },
      "outputs": [],
      "source": [
        "# write your code below\n"
      ]
    },
    {
      "cell_type": "markdown",
      "metadata": {
        "id": "ROsqXOi-k_p1"
      },
      "source": [
        "What is the value of `y` where `y = (3 + 2) * 2`"
      ]
    },
    {
      "cell_type": "code",
      "execution_count": null,
      "metadata": {
        "id": "Setd1L-ik_p2"
      },
      "outputs": [],
      "source": [
        "# write your code below\n"
      ]
    },
    {
      "cell_type": "markdown",
      "metadata": {
        "id": "cm-W_Iobk_p2"
      },
      "source": [
        "What is the value of `z` where `z = x + y`"
      ]
    },
    {
      "cell_type": "code",
      "execution_count": null,
      "metadata": {
        "id": "OHlO8AnSk_p2"
      },
      "outputs": [],
      "source": [
        "# write your code below\n"
      ]
    },
    {
      "cell_type": "markdown",
      "metadata": {
        "id": "dH-dqBH9k_p3"
      },
      "source": [
        "## IV. Strings\n",
        "\n",
        "A string is an ordered sequence of characters contained within 2 quotation marks:"
      ]
    },
    {
      "cell_type": "code",
      "execution_count": null,
      "metadata": {
        "id": "pjnVtAdCk_p3"
      },
      "outputs": [],
      "source": [
        "# Use quotation marks for defining string\n",
        "\n",
        "\"Michael Jackson\""
      ]
    },
    {
      "cell_type": "markdown",
      "metadata": {
        "id": "h1nBLmBTk_p3"
      },
      "source": [
        "We can also use single quotation marks:"
      ]
    },
    {
      "cell_type": "code",
      "execution_count": null,
      "metadata": {
        "id": "oOwRf7Yvk_p4"
      },
      "outputs": [],
      "source": [
        "# Use single quotation marks for defining string\n",
        "\n",
        "'Michael Jackson'"
      ]
    },
    {
      "cell_type": "markdown",
      "metadata": {
        "id": "gnqE6g3ak_p4"
      },
      "source": [
        "We can bind or assign a string to another variable:"
      ]
    },
    {
      "cell_type": "code",
      "execution_count": null,
      "metadata": {
        "id": "htTNY-i8k_p4"
      },
      "outputs": [],
      "source": [
        "# Assign string to variable\n",
        "\n",
        "name = \"Michael Jackson\"\n",
        "name"
      ]
    },
    {
      "cell_type": "markdown",
      "metadata": {
        "id": "GQbcdo-mk_p5"
      },
      "source": [
        "**Indexing**\n",
        "\n",
        "Because a string as an ordered sequence, each element in the sequence can be accessed using an index represented by the array of numbers:\n",
        "\n",
        "<img src=\"https://s3-api.us-geo.objectstorage.softlayer.net/cf-courses-data/CognitiveClass/PY0101EN/Chapter%201/Images/StringsIndex.png\" width=\"600\" align=\"center\" />"
      ]
    },
    {
      "cell_type": "code",
      "execution_count": null,
      "metadata": {
        "id": "uwsfXOjbk_p5"
      },
      "outputs": [],
      "source": [
        "# Print the first element in the string\n",
        "\n",
        "print(name[0])"
      ]
    },
    {
      "cell_type": "code",
      "execution_count": null,
      "metadata": {
        "id": "L40dqYHUk_p5"
      },
      "outputs": [],
      "source": [
        "# Print the element on index 6 in the string\n",
        "\n",
        "print(name[6])"
      ]
    },
    {
      "cell_type": "markdown",
      "metadata": {
        "id": "y8Haxlwok_p6"
      },
      "source": [
        "**Negative Indexing**\n",
        "\n",
        "We can also use negative indexing with strings:\n",
        "\n",
        "<img src=\"https://s3-api.us-geo.objectstorage.softlayer.net/cf-courses-data/CognitiveClass/PY0101EN/Chapter%201/Images/StringsNeg.png\" width=\"600\" align=\"center\" />"
      ]
    },
    {
      "cell_type": "code",
      "execution_count": null,
      "metadata": {
        "id": "mLEddbGXk_p6"
      },
      "outputs": [],
      "source": [
        "# Print the last element in the string\n",
        "\n",
        "print(name[-1])"
      ]
    },
    {
      "cell_type": "code",
      "execution_count": null,
      "metadata": {
        "id": "iCCJt9kRk_p6"
      },
      "outputs": [],
      "source": [
        "# Print the first element in the string\n",
        "\n",
        "print(name[-15])"
      ]
    },
    {
      "cell_type": "markdown",
      "metadata": {
        "id": "QR1_Lde1k_p7"
      },
      "source": [
        "**Slicing**\n",
        "\n",
        "We can obtain multiple characters from a string using slicing, we can obtain the 0 to 4th and 8th to the 12th element:\n",
        "\n",
        "<img src=\"https://s3-api.us-geo.objectstorage.softlayer.net/cf-courses-data/CognitiveClass/PY0101EN/Chapter%201/Images/StringsSlice.png\" width=\"600\" align=\"center\" />"
      ]
    },
    {
      "cell_type": "code",
      "execution_count": null,
      "metadata": {
        "id": "eotQFv0Nk_p7"
      },
      "outputs": [],
      "source": [
        "# Take the slice on variable name with only index 0 to index 3\n",
        "\n",
        "name[0:4]"
      ]
    },
    {
      "cell_type": "code",
      "execution_count": null,
      "metadata": {
        "id": "V_lCzC-3k_p8"
      },
      "outputs": [],
      "source": [
        "# Take the slice on variable name with only index 8 to index 11\n",
        "\n",
        "name[8:12]"
      ]
    },
    {
      "cell_type": "markdown",
      "metadata": {
        "id": "h_CgYZwak_p8"
      },
      "source": [
        "**Stride**\n",
        "\n",
        "We can also input a stride value as follows, with the '2' indicating that we are selecting every second variable:\n",
        "\n",
        "<img src=\"https://s3-api.us-geo.objectstorage.softlayer.net/cf-courses-data/CognitiveClass/PY0101EN/Chapter%201/Images/StringsStride.png\" width=\"600\" align=\"center\" />"
      ]
    },
    {
      "cell_type": "code",
      "execution_count": null,
      "metadata": {
        "id": "U3zj6je6k_p8"
      },
      "outputs": [],
      "source": [
        "# Get every second element. The elments on index 1, 3, 5 ...\n",
        "\n",
        "name[::2]"
      ]
    },
    {
      "cell_type": "markdown",
      "metadata": {
        "id": "fNbM2_G4k_p9"
      },
      "source": [
        "**Concatenate Strings**\n",
        "\n",
        "We can concatenate or combine strings by using the addition symbols, and the result is a new string that is a combination of both:"
      ]
    },
    {
      "cell_type": "code",
      "execution_count": null,
      "metadata": {
        "id": "UKPvUcGak_p9"
      },
      "outputs": [],
      "source": [
        "# Concatenate two strings\n",
        "\n",
        "statement = name + \"is the best\"\n",
        "statement"
      ]
    },
    {
      "cell_type": "markdown",
      "metadata": {
        "id": "J2KiPZJMk_p-"
      },
      "source": [
        "To replicate values of a string we simply multiply the string by the number of times we would like to replicate it."
      ]
    },
    {
      "cell_type": "code",
      "execution_count": null,
      "metadata": {
        "id": "1zA67x9rk_p_"
      },
      "outputs": [],
      "source": [
        "# Print the string for 3 times\n",
        "\n",
        "3 * \"Michael Jackson\""
      ]
    },
    {
      "cell_type": "markdown",
      "metadata": {
        "id": "wIdO0qtGk_qA"
      },
      "source": [
        "**Escape Sequences**\n",
        "\n",
        "Back slashes represent the beginning of escape sequences. Escape sequences represent strings that may be difficult to input. For example, back slash \"n\" represents a new line."
      ]
    },
    {
      "cell_type": "code",
      "execution_count": null,
      "metadata": {
        "id": "VKai5F8Rk_qA"
      },
      "outputs": [],
      "source": [
        "# New line escape sequence\n",
        "\n",
        "print(\" Michael Jackson \\n is the best\" )"
      ]
    },
    {
      "cell_type": "code",
      "execution_count": null,
      "metadata": {
        "id": "9DnNq0SJk_qB"
      },
      "outputs": [],
      "source": [
        "# Tab escape sequence\n",
        "\n",
        "print(\" Michael Jackson \\t is the best\" )"
      ]
    },
    {
      "cell_type": "code",
      "execution_count": null,
      "metadata": {
        "id": "gew920kRk_qB"
      },
      "outputs": [],
      "source": [
        "# Include back slash in string\n",
        "\n",
        "print(\" Michael Jackson \\\\ is the best\" )"
      ]
    },
    {
      "cell_type": "markdown",
      "metadata": {
        "id": "1-4qhacWk_qC"
      },
      "source": [
        "**String Operations**\n",
        "\n",
        "There are many string operation methods in Python that can be used to manipulate the data. "
      ]
    },
    {
      "cell_type": "code",
      "execution_count": null,
      "metadata": {
        "id": "67_65lNHk_qC"
      },
      "outputs": [],
      "source": [
        "# Convert all the characters in string to upper case\n",
        "\n",
        "a = \"Welcome to gomycode\"\n",
        "print(\"before upper:\", a)\n",
        "b = a.upper()\n",
        "print(\"After upper:\", b)"
      ]
    },
    {
      "cell_type": "code",
      "execution_count": null,
      "metadata": {
        "id": "PnZT3Rfnk_qD"
      },
      "outputs": [],
      "source": [
        "# Replace the old substring with the new target substring is the segment has been found in the string\n",
        "\n",
        "b = a.replace('gomycode', 'GMC')\n",
        "b"
      ]
    },
    {
      "cell_type": "code",
      "execution_count": null,
      "metadata": {
        "id": "iYzmZytKk_qD"
      },
      "outputs": [],
      "source": [
        "# Find the substring in the string. Only the index of the first elment of substring in string will be the output\n",
        "\n",
        "a.find('gomycode')"
      ]
    },
    {
      "cell_type": "code",
      "execution_count": null,
      "metadata": {
        "id": "29jNSz_dk_qD"
      },
      "outputs": [],
      "source": [
        "# If cannot find the substring in the string\n",
        "\n",
        "name.find('Data')"
      ]
    },
    {
      "cell_type": "markdown",
      "metadata": {
        "id": "kwzB_SPZk_qE"
      },
      "source": [
        "**Exercise**\n",
        "\n",
        "What is the value of the variable c after the following code is executed?"
      ]
    },
    {
      "cell_type": "code",
      "execution_count": null,
      "metadata": {
        "id": "6jx8y03Xk_qE"
      },
      "outputs": [],
      "source": [
        "a = '1'\n",
        "b = '2'\n",
        "\n",
        "c = a + b"
      ]
    },
    {
      "cell_type": "markdown",
      "metadata": {
        "id": "eNAqsIL_k_qF"
      },
      "source": [
        "Consider the variable d = \"ABCDEFG\" use slicing to print out the first three elements:"
      ]
    },
    {
      "cell_type": "code",
      "execution_count": null,
      "metadata": {
        "id": "7P2zxHmHk_qF"
      },
      "outputs": [],
      "source": [
        "# write your code below\n"
      ]
    },
    {
      "cell_type": "markdown",
      "metadata": {
        "id": "Rr53sFbTk_qF"
      },
      "source": [
        "Use a stride value of 2 to print out every second character of the string e:"
      ]
    },
    {
      "cell_type": "code",
      "execution_count": null,
      "metadata": {
        "id": "i7XmMa14k_qF"
      },
      "outputs": [],
      "source": [
        "# write your code below\n",
        "\n",
        "e = 'clocrkr1e1c1t'\n"
      ]
    },
    {
      "cell_type": "markdown",
      "metadata": {
        "id": "8ekJQ2hTk_qG"
      },
      "source": [
        "Convert the variable f to uppercase:"
      ]
    },
    {
      "cell_type": "code",
      "execution_count": null,
      "metadata": {
        "id": "RuUvBdDEk_qG"
      },
      "outputs": [],
      "source": [
        "# Write your code below\n",
        "\n",
        "f = \"You are wrong\"\n"
      ]
    },
    {
      "cell_type": "markdown",
      "metadata": {
        "id": "MCrZiNNMk_qH"
      },
      "source": [
        "Consider the variable g, and find the first index of the sub-string snow:"
      ]
    },
    {
      "cell_type": "code",
      "execution_count": null,
      "metadata": {
        "id": "SmudroX8k_qH"
      },
      "outputs": [],
      "source": [
        "# Write your code below\n",
        "\n",
        "g = \"Mary had a little lamb Little lamb, little lamb Mary had a little lamb \\\n",
        "Its fleece was white as snow And everywhere that Mary went Mary went, Mary went \\\n",
        "Everywhere that Mary went The lamb was sure to go\"\n"
      ]
    },
    {
      "cell_type": "markdown",
      "metadata": {
        "id": "TusSJDhZk_qH"
      },
      "source": [
        "In the variable g, replace the sub-string `Mary` with `Bob`:"
      ]
    },
    {
      "cell_type": "code",
      "execution_count": null,
      "metadata": {
        "id": "Q2gEtObOk_qI"
      },
      "outputs": [],
      "source": [
        "# Write your code below\n"
      ]
    },
    {
      "cell_type": "markdown",
      "metadata": {
        "id": "PShyNVQ4k_qI"
      },
      "source": [
        "|***HICHEM Dridi*** | <img src=\"https://image.pitchbook.com/wvMiGxI5AbuS1BEUzlZ6MLk6clW1621327461408_200x200\" width = 130/>|\n",
        "| :---              |          ---: |"
      ]
    }
  ],
  "metadata": {
    "kernelspec": {
      "display_name": "Python 3",
      "language": "python",
      "name": "python3"
    },
    "language_info": {
      "codemirror_mode": {
        "name": "ipython",
        "version": 3
      },
      "file_extension": ".py",
      "mimetype": "text/x-python",
      "name": "python",
      "nbconvert_exporter": "python",
      "pygments_lexer": "ipython3",
      "version": "3.7.6"
    },
    "colab": {
      "name": "Lets_Code_with_Python_Part_I (1).ipynb",
      "provenance": [],
      "include_colab_link": true
    }
  },
  "nbformat": 4,
  "nbformat_minor": 0
}