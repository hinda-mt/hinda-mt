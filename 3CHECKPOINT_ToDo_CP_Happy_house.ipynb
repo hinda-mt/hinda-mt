{
  "nbformat": 4,
  "nbformat_minor": 0,
  "metadata": {
    "colab": {
      "name": "3CHECKPOINT_ToDo_CP_Happy_house.ipynb",
      "provenance": [],
      "collapsed_sections": [],
      "include_colab_link": true
    },
    "kernelspec": {
      "name": "python3",
      "display_name": "Python 3"
    }
  },
  "cells": [
    {
      "cell_type": "markdown",
      "metadata": {
        "id": "view-in-github",
        "colab_type": "text"
      },
      "source": [
        "<a href=\"https://colab.research.google.com/github/hinda-mt/hinda-mt/blob/main/3CHECKPOINT_ToDo_CP_Happy_house.ipynb\" target=\"_parent\"><img src=\"https://colab.research.google.com/assets/colab-badge.svg\" alt=\"Open In Colab\"/></a>"
      ]
    },
    {
      "cell_type": "markdown",
      "metadata": {
        "id": "2th5H5b1hbcS"
      },
      "source": [
        "# If you happy and I know it you can enter my House \n",
        "\n",
        "You'll see how you can in a couple of hours build a deep learning algorithm."
      ]
    },
    {
      "cell_type": "code",
      "metadata": {
        "id": "MuU-RPhvflcW"
      },
      "source": [
        "import numpy as np\n",
        "from sklearn.metrics import confusion_matrix\n",
        "import seaborn as sns\n",
        "import h5py\n",
        "from keras import layers\n",
        "from keras.layers import Input, Dense, Activation, ZeroPadding2D, BatchNormalization, Flatten, Conv2D\n",
        "from keras.layers import AveragePooling2D, MaxPooling2D, Dropout, GlobalMaxPooling2D, GlobalAveragePooling2D\n",
        "from keras.models import Model\n",
        "from keras.preprocessing import image\n",
        "from keras.utils import layer_utils\n",
        "from keras.utils.data_utils import get_file\n",
        "from keras.applications.imagenet_utils import preprocess_input\n",
        "from keras.models import Sequential\n",
        "\n",
        "import pydot\n",
        "from IPython.display import SVG\n",
        "\n",
        "\n",
        "import keras.backend as K\n",
        "K.set_image_data_format('channels_last')\n",
        "import matplotlib.pyplot as plt\n",
        "from matplotlib.pyplot import imshow\n"
      ],
      "execution_count": null,
      "outputs": []
    },
    {
      "cell_type": "code",
      "metadata": {
        "id": "4Z7gBX7YfTRL"
      },
      "source": [
        "def load_dataset(path_to_train, path_to_test):\n",
        "    train_dataset = h5py.File(path_to_train)\n",
        "    train_x = np.array(train_dataset['train_set_x'][:])\n",
        "    train_y = np.array(train_dataset['train_set_y'][:])\n",
        "\n",
        "    test_dataset = h5py.File(path_to_test)\n",
        "    test_x = np.array(test_dataset['test_set_x'][:])\n",
        "    test_y = np.array(test_dataset['test_set_y'][:])\n",
        "\n",
        "    # y reshaped\n",
        "    train_y = train_y.reshape((1, train_x.shape[0])) #?? hichem what's happening here?\n",
        "    test_y = test_y.reshape((1, test_y.shape[0])) #?? hichem what's happening here?\n",
        "\n",
        "    return train_x, train_y, test_x, test_y"
      ],
      "execution_count": null,
      "outputs": []
    },
    {
      "cell_type": "markdown",
      "metadata": {
        "id": "s0shUMnCg9GK"
      },
      "source": [
        "This dataset can be used to solve the Happy House problem.\n",
        "Where, we allow a person to enter the house only if he/she is smiling!\n",
        "So, a smile detector!\n"
      ]
    },
    {
      "cell_type": "markdown",
      "metadata": {
        "id": "LF7js4UdhO0F"
      },
      "source": [
        "![Texte alternatif…](https://raw.githubusercontent.com/Kulbear/deep-learning-coursera/master/Convolutional%20Neural%20Networks/images/house-members.png)"
      ]
    },
    {
      "cell_type": "markdown",
      "metadata": {
        "id": "roksQQtvizn4"
      },
      "source": [
        "\n",
        "\n",
        "Details of the \"Happy\" dataset:\n",
        "\n",
        "* Images are of shape (64,64,3)\n",
        "* Training: 600 pictures\n",
        "* Test: 150 pictures\n"
      ]
    },
    {
      "cell_type": "markdown",
      "metadata": {
        "id": "z9hCBeyJi--_"
      },
      "source": [
        "# Load Dataset +Data Preprocessing and Data Augmentation"
      ]
    },
    {
      "cell_type": "markdown",
      "source": [
        "How do you reshape a NumPy array from 2D to 3D?\n",
        "hope this funtion helps u to convert 2D array to 3D array. If you just want to add a 3rd axis (x,y) to (x,y,1), Numpy allows you to easily do this using the dstack command. You need to transpose ( . T ) it to get it into the (x,y,1) format you want."
      ],
      "metadata": {
        "id": "W_c52wdizEDx"
      }
    },
    {
      "cell_type": "code",
      "metadata": {
        "id": "nOZo0cNbg8ts",
        "outputId": "a6f9ebae-3699-4286-e8bc-5facf72dbd71",
        "colab": {
          "base_uri": "https://localhost:8080/"
        }
      },
      "source": [
        "X_train_orig, Y_train_orig, X_test_orig, Y_test_orig = load_dataset(\"train_happy.h5\",\"test_happy.h5\")\n",
        "\n",
        "# Normalize x : image vectors :re-scale the image data to values between [0,1] : 255. :type('float32')\n",
        "X_train = X_train_orig/255.\n",
        "X_test = X_test_orig/255.\n",
        "\n",
        "# Reshape = Flatten : each row become column\n",
        "\n",
        "Y_train = Y_train_orig.T\n",
        "Y_test = Y_test_orig.T\n",
        "\n",
        "\n",
        "print (\"number of training examples = \" + str(X_train.shape[0]))\n",
        "print (\"number of test examples = \" + str(X_test.shape[0]))\n",
        "print (\"X_train shape: \" + str(X_train.shape)) \n",
        "print (\"Y_train shape: \" + str(Y_train.shape))\n",
        "print (\"X_test shape: \" + str(X_test.shape)) \n",
        "print (\"Y_test shape: \" + str(Y_test.shape))"
      ],
      "execution_count": null,
      "outputs": [
        {
          "output_type": "stream",
          "name": "stdout",
          "text": [
            "number of training examples = 600\n",
            "number of test examples = 150\n",
            "X_train shape: (600, 64, 64, 3)\n",
            "Y_train shape: (600, 1)\n",
            "X_test shape: (150, 64, 64, 3)\n",
            "Y_test shape: (150, 1)\n"
          ]
        }
      ]
    },
    {
      "cell_type": "markdown",
      "source": [
        "Data augmentation on the train data:"
      ],
      "metadata": {
        "id": "JR-uXJY-4Hsr"
      }
    },
    {
      "cell_type": "markdown",
      "source": [
        "\n",
        "\n",
        "```\n",
        "datagen = ImageDataGenerator(\n",
        "        featurewise_center=False,  # set input mean to 0 over the dataset\n",
        "        samplewise_center=False,  # set each sample mean to 0\n",
        "        featurewise_std_normalization=False,  # divide inputs by std of the dataset\n",
        "        samplewise_std_normalization=False,  # divide each input by its std\n",
        "        zca_whitening=False,  # apply ZCA whitening\n",
        "        rotation_range = 30,  # randomly rotate images in the range (degrees, 0 to 180)\n",
        "        zoom_range = 0.2, # Randomly zoom image \n",
        "        width_shift_range=0.1,  # randomly shift images horizontally (fraction of total width)\n",
        "        height_shift_range=0.1,  # randomly shift images vertically (fraction of total height)\n",
        "        horizontal_flip = True,  # randomly flip images\n",
        "        vertical_flip=False)  # randomly flip images\n",
        "\n",
        "\n",
        "datagen.fit(x_train) \n",
        "\n",
        "\n",
        "# RESHAPE / .T\n",
        "x_train.reshape(-1, img_size, img_size, 1)\n",
        "y_train = np.array(y_train)\n",
        "\n",
        "x_val.reshape(-1, img_size, img_size, 1)\n",
        "y_val = np.array(y_val)\n",
        "```\n",
        "\n"
      ],
      "metadata": {
        "id": "RJYRsQMk4UZV"
      }
    },
    {
      "cell_type": "code",
      "source": [
        "Y_test# there's no need for one hot encoding :to categorica seeing 0 and 1 \n",
        "# no need to convert class vectors to binary class matrices \n",
        "#like the first checkpoint (labels) :train_labels_categ/test_labels_categ/validation_labels_categ\n"
      ],
      "metadata": {
        "colab": {
          "base_uri": "https://localhost:8080/"
        },
        "id": "ysi_O3P5tcFD",
        "outputId": "bc064349-2aa0-4203-e4a5-6f9fbc72c932"
      },
      "execution_count": null,
      "outputs": [
        {
          "output_type": "execute_result",
          "data": {
            "text/plain": [
              "array([[1],\n",
              "       [1],\n",
              "       [1],\n",
              "       [1],\n",
              "       [1],\n",
              "       [1],\n",
              "       [1],\n",
              "       [0],\n",
              "       [1],\n",
              "       [0],\n",
              "       [1],\n",
              "       [0],\n",
              "       [0],\n",
              "       [0],\n",
              "       [0],\n",
              "       [1],\n",
              "       [0],\n",
              "       [1],\n",
              "       [0],\n",
              "       [1],\n",
              "       [1],\n",
              "       [1],\n",
              "       [0],\n",
              "       [1],\n",
              "       [0],\n",
              "       [0],\n",
              "       [1],\n",
              "       [0],\n",
              "       [0],\n",
              "       [1],\n",
              "       [1],\n",
              "       [1],\n",
              "       [1],\n",
              "       [1],\n",
              "       [1],\n",
              "       [1],\n",
              "       [0],\n",
              "       [0],\n",
              "       [0],\n",
              "       [0],\n",
              "       [1],\n",
              "       [0],\n",
              "       [0],\n",
              "       [0],\n",
              "       [1],\n",
              "       [0],\n",
              "       [0],\n",
              "       [0],\n",
              "       [1],\n",
              "       [0],\n",
              "       [0],\n",
              "       [0],\n",
              "       [1],\n",
              "       [1],\n",
              "       [0],\n",
              "       [1],\n",
              "       [1],\n",
              "       [1],\n",
              "       [1],\n",
              "       [1],\n",
              "       [1],\n",
              "       [1],\n",
              "       [1],\n",
              "       [0],\n",
              "       [1],\n",
              "       [1],\n",
              "       [1],\n",
              "       [1],\n",
              "       [1],\n",
              "       [1],\n",
              "       [1],\n",
              "       [0],\n",
              "       [0],\n",
              "       [0],\n",
              "       [0],\n",
              "       [1],\n",
              "       [1],\n",
              "       [0],\n",
              "       [0],\n",
              "       [1],\n",
              "       [0],\n",
              "       [1],\n",
              "       [0],\n",
              "       [1],\n",
              "       [0],\n",
              "       [1],\n",
              "       [1],\n",
              "       [0],\n",
              "       [0],\n",
              "       [1],\n",
              "       [0],\n",
              "       [0],\n",
              "       [0],\n",
              "       [0],\n",
              "       [1],\n",
              "       [1],\n",
              "       [1],\n",
              "       [0],\n",
              "       [1],\n",
              "       [1],\n",
              "       [1],\n",
              "       [0],\n",
              "       [1],\n",
              "       [0],\n",
              "       [0],\n",
              "       [0],\n",
              "       [0],\n",
              "       [1],\n",
              "       [0],\n",
              "       [0],\n",
              "       [1],\n",
              "       [1],\n",
              "       [0],\n",
              "       [0],\n",
              "       [1],\n",
              "       [1],\n",
              "       [0],\n",
              "       [0],\n",
              "       [1],\n",
              "       [0],\n",
              "       [1],\n",
              "       [1],\n",
              "       [0],\n",
              "       [1],\n",
              "       [1],\n",
              "       [1],\n",
              "       [0],\n",
              "       [1],\n",
              "       [1],\n",
              "       [0],\n",
              "       [1],\n",
              "       [1],\n",
              "       [0],\n",
              "       [1],\n",
              "       [1],\n",
              "       [1],\n",
              "       [0],\n",
              "       [1],\n",
              "       [0],\n",
              "       [1],\n",
              "       [1],\n",
              "       [1],\n",
              "       [0],\n",
              "       [1],\n",
              "       [0],\n",
              "       [1],\n",
              "       [0],\n",
              "       [1],\n",
              "       [1],\n",
              "       [0]])"
            ]
          },
          "metadata": {},
          "execution_count": 21
        }
      ]
    },
    {
      "cell_type": "code",
      "metadata": {
        "id": "RALj5hk4gMXB",
        "outputId": "b1add0ea-7c9d-4173-e722-96897b2396c8",
        "colab": {
          "base_uri": "https://localhost:8080/",
          "height": 302
        }
      },
      "source": [
        "# Sample image from dataset NUMBER 9\n",
        "print(\"Image shape :\",X_train_orig[9].shape)\n",
        "imshow(X_train_orig[9])"
      ],
      "execution_count": null,
      "outputs": [
        {
          "output_type": "stream",
          "name": "stdout",
          "text": [
            "Image shape : (64, 64, 3)\n"
          ]
        },
        {
          "output_type": "execute_result",
          "data": {
            "text/plain": [
              "<matplotlib.image.AxesImage at 0x7f38d8725810>"
            ]
          },
          "metadata": {},
          "execution_count": 22
        },
        {
          "output_type": "display_data",
          "data": {
            "image/png": "[encoded data removed]",
            "text/plain": [
              "<Figure size 432x288 with 1 Axes>"
            ]
          },
          "metadata": {
            "needs_background": "light"
          }
        }
      ]
    },
    {
      "cell_type": "code",
      "source": [
        "# Sample image from dataset NUMBER 10\n",
        "print(\"Image shape :\",X_train_orig[10].shape) \n",
        "imshow(X_train_orig[10])"
      ],
      "metadata": {
        "colab": {
          "base_uri": "https://localhost:8080/",
          "height": 302
        },
        "id": "7L1ohIlglHZB",
        "outputId": "23a0dc9c-9b6d-4503-8681-fb0f532d8e8e"
      },
      "execution_count": null,
      "outputs": [
        {
          "output_type": "stream",
          "name": "stdout",
          "text": [
            "Image shape : (64, 64, 3)\n"
          ]
        },
        {
          "output_type": "execute_result",
          "data": {
            "text/plain": [
              "<matplotlib.image.AxesImage at 0x7f38dc07d8d0>"
            ]
          },
          "metadata": {},
          "execution_count": 15
        },
        {
          "output_type": "display_data",
          "data": {
            "image/png": "[encoded data removed]",
            "text/plain": [
              "<Figure size 432x288 with 1 Axes>"
            ]
          },
          "metadata": {
            "needs_background": "light"
          }
        }
      ]
    },
    {
      "cell_type": "markdown",
      "source": [
        "Visualize the data \n",
        "Let’s visualize our data and see what exactly we are working with. We use seaborn to plot the number of images in both the classes and you can see what the output looks like. BASED ON THIS EXP / \n",
        "https://www.analyticsvidhya.com/blog/2020/10/create-image-classification-model-python-keras/"
      ],
      "metadata": {
        "id": "nvCuzqrO0JsE"
      }
    },
    {
      "cell_type": "markdown",
      "source": [
        "# ⚗ fix this henda"
      ],
      "metadata": {
        "id": "EqDmHQdEu-Lb"
      }
    },
    {
      "cell_type": "markdown",
      "source": [
        "\n",
        "\n",
        "```\n",
        "l = []\n",
        "for i in  X_train_orig:\n",
        "  if(i[1] == 0):\n",
        "    l.append(\"happy\")\n",
        "  else:\n",
        "    l.append(\"not_happy\")\n",
        "sns.set_style('darkgrid')\n",
        "sns.countplot(l)\n",
        "\n",
        "# i was trying to creat to plot the number of images in both \n",
        " classes and you can see what the output looks like. why it didn't work? \n",
        "\n",
        "#how to to create histogram to see the number of images in both classes ?\n",
        "\n",
        "```\n",
        "\n"
      ],
      "metadata": {
        "id": "QVMCQUdBGaBV"
      }
    },
    {
      "cell_type": "markdown",
      "metadata": {
        "id": "vQNZh4XxjCiB"
      },
      "source": [
        "# Building Model :\n"
      ]
    },
    {
      "cell_type": "markdown",
      "source": [
        "- Define the Model \n",
        "\n",
        "Let’s define a simple CNN model with 1 Convolutional layers followed by max-pooling layers. A dropout layer is added after the 3rd maxpool operation to avoid overfitting.\n",
        "\n",
        "https://towardsdatascience.com/a-comprehensive-guide-to-convolutional-neural-networks-the-eli5-way-3bd2b1164a53"
      ],
      "metadata": {
        "id": "GLuN9rti5guE"
      }
    },
    {
      "cell_type": "markdown",
      "source": [
        "\n",
        "**exp**\n",
        "\n",
        "```\n",
        "cnn_model = Sequential() #Specifying the input shape\n",
        "\n",
        "cnn_model.add(Conv2D(64, 6, 6, input_shape = (64,64,3), activation='relu'))\n",
        "cnn_model.add(MaxPooling2D(pool_size = (2, 2)))\n",
        "\n",
        "cnn_model.add(Dropout(0.2))\n",
        "\n",
        "cnn_model.add(Conv2D(64, 5, 5, activation='relu'))\n",
        "#cnn_model.add(MaxPooling2D(pool_size = (2, 2),padding=\"VALID\",strides=(1, 2, 2, 1)))\n",
        "\n",
        "cnn_model.add(Flatten())\n",
        "cnn_model.add(Dense(output_dim = 128, activation = 'relu'))\n",
        "cnn_model.add(Dense(output_dim = 1, activation = 'sigmoid'))```\n",
        "\n"
      ],
      "metadata": {
        "id": "VSRHtfzi58w3"
      }
    },
    {
      "cell_type": "markdown",
      "metadata": {
        "id": "IJJpc1lppa_m"
      },
      "source": [
        "_________________________________________________________________\n",
        "\n",
        "> Bloc en retrait\n",
        "\n",
        "\n",
        "\n",
        "conv2d_3 (Conv2D)            (None, 64, 64, 32)        4736      \n",
        "_________________________________________________________________\n",
        "batch_normalization_2 (Batch (None, 64, 64, 32)        128       \n",
        "_________________________________________________________________\n",
        "max_pooling2d_2 (MaxPooling2 (None, 32, 32, 32)        0         \n",
        "_________________________________________________________________\n",
        "flatten_2 (Flatten)          (None, 32768)             0         \n",
        "_________________________________________________________________\n",
        "dense_2 (Dense)              (None, 1)                 32769     \n",
        "_________________________________________________________________\n",
        "\n"
      ]
    },
    {
      "cell_type": "code",
      "metadata": {
        "id": "j1YT0k2rkvAM",
        "colab": {
          "base_uri": "https://localhost:8080/"
        },
        "outputId": "3c63b7a0-fd95-4229-8ca0-63c5dccab26f"
      },
      "source": [
        "model = Sequential() #Specifying the input shape\n",
        "\n",
        "#covolution layer\n",
        "model.add(Conv2D(filters=32, kernel_size=(7,7),activation='relu',padding=\"same\",input_shape=(64,64,3) ))#input: for 64x64 RGB pictures , (4, 62, 62, 2)>>> # With `dilation_rate` as 2. \n",
        "#try \"valid\" ,try kernel_size=(3,3) ,change activation too \n",
        "\n",
        "#BatchNormalization\n",
        "model.add(BatchNormalization())\n",
        "#pooling layer\n",
        "model.add(MaxPooling2D(pool_size=(2,2), strides=2,padding='valid'))#pool_size=(2,2),strides=1\n",
        "#Flatten\n",
        "model.add(Flatten())\n",
        "# Densely connected layers\n",
        "#model.add(Dense(128, activation = 'relu'))\n",
        "# output layer\n",
        "model.add(Dense(1, activation = 'sigmoid')) #softmax or sigmoid              \n",
        "\n",
        "\n",
        "model.summary()"
      ],
      "execution_count": null,
      "outputs": [
        {
          "output_type": "stream",
          "name": "stdout",
          "text": [
            "Model: \"sequential\"\n",
            "_________________________________________________________________\n",
            " Layer (type)                Output Shape              Param #   \n",
            "=================================================================\n",
            " conv2d (Conv2D)             (None, 64, 64, 32)        4736      \n",
            "                                                                 \n",
            " batch_normalization (BatchN  (None, 64, 64, 32)       128       \n",
            " ormalization)                                                   \n",
            "                                                                 \n",
            " max_pooling2d (MaxPooling2D  (None, 32, 32, 32)       0         \n",
            " )                                                               \n",
            "                                                                 \n",
            " flatten (Flatten)           (None, 32768)             0         \n",
            "                                                                 \n",
            " dense (Dense)               (None, 1)                 32769     \n",
            "                                                                 \n",
            "=================================================================\n",
            "Total params: 37,633\n",
            "Trainable params: 37,569\n",
            "Non-trainable params: 64\n",
            "_________________________________________________________________\n"
          ]
        }
      ]
    },
    {
      "cell_type": "code",
      "metadata": {
        "id": "3CtQ3d7pmdEU"
      },
      "source": [
        "    # compile with adam optimizer & binary_crossentropy loss function\n",
        "\n",
        "opt ='Adam' #tf.keras.optimizers.Adam(learning_rate=0.0001)\n",
        "\n",
        "model.compile(optimizer=opt, loss='binary_crossentropy', metrics=[\"accuracy\"])#"
      ],
      "execution_count": null,
      "outputs": []
    },
    {
      "cell_type": "code",
      "metadata": {
        "id": "JJzOsVQnmsz0",
        "outputId": "d83969e9-cacc-4677-b139-ce8285b001e5",
        "colab": {
          "base_uri": "https://localhost:8080/"
        }
      },
      "source": [
        "history_model = model.fit(X_train, Y_train,epochs=10,batch_size=16) #model.fit(X_train, Y_train, epochs=40, batch_size=50) , is 5 and 0.9550 acc enough  ? \n"
      ],
      "execution_count": null,
      "outputs": [
        {
          "output_type": "stream",
          "name": "stdout",
          "text": [
            "Epoch 1/10\n",
            "38/38 [==============================] - 5s 111ms/step - loss: 0.8897 - accuracy: 0.6867\n",
            "Epoch 2/10\n",
            "38/38 [==============================] - 4s 109ms/step - loss: 0.2466 - accuracy: 0.9167\n",
            "Epoch 3/10\n",
            "38/38 [==============================] - 4s 110ms/step - loss: 0.1530 - accuracy: 0.9467\n",
            "Epoch 4/10\n",
            "38/38 [==============================] - 4s 109ms/step - loss: 0.1124 - accuracy: 0.9617\n",
            "Epoch 5/10\n",
            "38/38 [==============================] - 4s 110ms/step - loss: 0.1320 - accuracy: 0.9517\n",
            "Epoch 6/10\n",
            "38/38 [==============================] - 4s 109ms/step - loss: 0.1009 - accuracy: 0.9733\n",
            "Epoch 7/10\n",
            "38/38 [==============================] - 4s 109ms/step - loss: 0.1081 - accuracy: 0.9650\n",
            "Epoch 8/10\n",
            "38/38 [==============================] - 4s 111ms/step - loss: 0.0819 - accuracy: 0.9783\n",
            "Epoch 9/10\n",
            "38/38 [==============================] - 4s 110ms/step - loss: 0.0545 - accuracy: 0.9867\n",
            "Epoch 10/10\n",
            "38/38 [==============================] - 5s 124ms/step - loss: 0.0592 - accuracy: 0.9817\n"
          ]
        }
      ]
    },
    {
      "cell_type": "markdown",
      "source": [
        "FOR EPOCHS =5 \n",
        "\n",
        "accuracy : 0.9550  now here is the thing this test gave us the \n",
        "\n",
        "FOR EPOCHS =10\n",
        "\n",
        "accuracy: 0.9833\n",
        "\n"
      ],
      "metadata": {
        "id": "eYedPFiBLkRo"
      }
    },
    {
      "cell_type": "markdown",
      "metadata": {
        "id": "MZFI90ydpx0n"
      },
      "source": [
        "# Evaluate / Test"
      ]
    },
    {
      "cell_type": "code",
      "metadata": {
        "id": "xV8Jav30myg0",
        "outputId": "4e546f76-0b40-44f5-d35f-b52d3236b8c6",
        "colab": {
          "base_uri": "https://localhost:8080/",
          "height": 298
        }
      },
      "source": [
        "train_accuracy = history_model.history['accuracy']# val_accuracy\n",
        "train_loss = history_model.history['loss']# val_loss\n",
        "count = range(len(train_accuracy))\n",
        "plt.plot(count, train_accuracy, label='Training accuracy')\n",
        "plt.plot(count, train_loss, label='Training Loss')\n",
        "plt.title('epochs vs Training Loss')\n",
        "plt.legend()"
      ],
      "execution_count": null,
      "outputs": [
        {
          "output_type": "execute_result",
          "data": {
            "text/plain": [
              "<matplotlib.legend.Legend at 0x7f0351c42ad0>"
            ]
          },
          "metadata": {},
          "execution_count": 112
        },
        {
          "output_type": "display_data",
          "data": {
            "image/png": "[encoded data removed]",
            "text/plain": [
              "<Figure size 432x288 with 1 Axes>"
            ]
          },
          "metadata": {
            "needs_background": "light"
          }
        }
      ]
    },
    {
      "cell_type": "markdown",
      "metadata": {
        "id": "gBOEETB6qD3L"
      },
      "source": [
        "Evaluate Test set"
      ]
    },
    {
      "cell_type": "code",
      "metadata": {
        "id": "VNuzxr58m6bI",
        "colab": {
          "base_uri": "https://localhost:8080/"
        },
        "outputId": "e56a7c13-911f-4da2-bdcd-b8dd29ef5840"
      },
      "source": [
        "#Scoring of model on training and test data\n",
        "#maybe changing architecture for better res\n",
        "scores = model.evaluate(X_train, Y_train)\n",
        "print (\"Training Accuracy: %.2f%%\\n\" % (scores[1]*100))\n",
        "scores = model.evaluate(X_test, Y_test)\n",
        "print (\"Testing Accuracy: %.2f%%\\n\" % (scores[1]*100))"
      ],
      "execution_count": null,
      "outputs": [
        {
          "output_type": "stream",
          "name": "stdout",
          "text": [
            "19/19 [==============================] - 1s 68ms/step - loss: 0.1038 - accuracy: 0.9717\n",
            "Training Accuracy: 97.17%\n",
            "\n",
            "5/5 [==============================] - 0s 67ms/step - loss: 0.2118 - accuracy: 0.9000\n",
            "Testing Accuracy: 90.00%\n",
            "\n"
          ]
        }
      ]
    },
    {
      "cell_type": "code",
      "source": [
        "#or \n",
        "score = model.evaluate(X_train,Y_train, verbose=0)\n",
        "print('Test accuracy:', score[1])"
      ],
      "metadata": {
        "id": "jkFMZ1eCVJne",
        "colab": {
          "base_uri": "https://localhost:8080/"
        },
        "outputId": "801be029-4025-4a15-9649-3c80b95859fa"
      },
      "execution_count": null,
      "outputs": [
        {
          "output_type": "stream",
          "name": "stdout",
          "text": [
            "Test accuracy: 0.971666693687439\n"
          ]
        }
      ]
    },
    {
      "cell_type": "code",
      "source": [
        "test_logits = model.predict(X_test) #EXPAIN"
      ],
      "metadata": {
        "id": "jgPvjkaCVMGO"
      },
      "execution_count": null,
      "outputs": []
    },
    {
      "cell_type": "code",
      "source": [
        "test_predictions = np.argmax(test_logits, axis=1)"
      ],
      "metadata": {
        "id": "NBYsH0LRVPtw"
      },
      "execution_count": null,
      "outputs": []
    },
    {
      "cell_type": "code",
      "source": [
        "y_pred = model.predict(X_test)"
      ],
      "metadata": {
        "id": "2ItI7VizQkLM"
      },
      "execution_count": null,
      "outputs": []
    },
    {
      "cell_type": "code",
      "source": [
        "y_pred "
      ],
      "metadata": {
        "colab": {
          "base_uri": "https://localhost:8080/"
        },
        "id": "yHrqgPLpEcnC",
        "outputId": "0fd34f62-f8fb-41f7-fbd1-d31fa912b7a2"
      },
      "execution_count": null,
      "outputs": [
        {
          "output_type": "execute_result",
          "data": {
            "text/plain": [
              "array([[0.9948189 ],\n",
              "       [0.83037925],\n",
              "       [0.9875564 ],\n",
              "       [0.99084175],\n",
              "       [0.18865317],\n",
              "       [0.76052594],\n",
              "       [0.64425355],\n",
              "       [0.01095265],\n",
              "       [0.9137851 ],\n",
              "       [0.03252658],\n",
              "       [0.7372428 ],\n",
              "       [0.03710252],\n",
              "       [0.60770947],\n",
              "       [0.27608567],\n",
              "       [0.03381538],\n",
              "       [0.6759437 ],\n",
              "       [0.00350103],\n",
              "       [0.8612707 ],\n",
              "       [0.00427124],\n",
              "       [0.9980128 ],\n",
              "       [0.7489922 ],\n",
              "       [0.8321701 ],\n",
              "       [0.23895532],\n",
              "       [0.99686915],\n",
              "       [0.00505504],\n",
              "       [0.00491431],\n",
              "       [0.46593815],\n",
              "       [0.02192065],\n",
              "       [0.28220063],\n",
              "       [0.9337603 ],\n",
              "       [0.89635336],\n",
              "       [0.9784657 ],\n",
              "       [0.61196595],\n",
              "       [0.97634786],\n",
              "       [0.8856512 ],\n",
              "       [0.9769566 ],\n",
              "       [0.11448175],\n",
              "       [0.07680938],\n",
              "       [0.04758307],\n",
              "       [0.0104464 ],\n",
              "       [0.42916125],\n",
              "       [0.01152331],\n",
              "       [0.10763466],\n",
              "       [0.00994781],\n",
              "       [0.99907947],\n",
              "       [0.00389099],\n",
              "       [0.00606576],\n",
              "       [0.00632665],\n",
              "       [0.9365174 ],\n",
              "       [0.0099526 ],\n",
              "       [0.00206411],\n",
              "       [0.08357057],\n",
              "       [0.49284136],\n",
              "       [0.34592015],\n",
              "       [0.04720345],\n",
              "       [0.94496286],\n",
              "       [0.85828555],\n",
              "       [0.48606125],\n",
              "       [0.96363556],\n",
              "       [0.99686253],\n",
              "       [0.3523378 ],\n",
              "       [0.9553265 ],\n",
              "       [0.29428267],\n",
              "       [0.4631303 ],\n",
              "       [0.9865957 ],\n",
              "       [0.20096248],\n",
              "       [0.39232436],\n",
              "       [0.7062912 ],\n",
              "       [0.8832029 ],\n",
              "       [0.99090797],\n",
              "       [0.9454711 ],\n",
              "       [0.0588142 ],\n",
              "       [0.01977134],\n",
              "       [0.12849936],\n",
              "       [0.08099878],\n",
              "       [0.58929837],\n",
              "       [0.50904286],\n",
              "       [0.00688073],\n",
              "       [0.09545466],\n",
              "       [0.9551917 ],\n",
              "       [0.08307821],\n",
              "       [0.97137177],\n",
              "       [0.06747669],\n",
              "       [0.99845994],\n",
              "       [0.18124962],\n",
              "       [0.77993345],\n",
              "       [0.8974612 ],\n",
              "       [0.01160544],\n",
              "       [0.03012273],\n",
              "       [0.9979138 ],\n",
              "       [0.03643462],\n",
              "       [0.08066589],\n",
              "       [0.08767697],\n",
              "       [0.0135237 ],\n",
              "       [0.8600193 ],\n",
              "       [0.16979617],\n",
              "       [0.91656005],\n",
              "       [0.04970583],\n",
              "       [0.99808514],\n",
              "       [0.723298  ],\n",
              "       [0.9983224 ],\n",
              "       [0.092026  ],\n",
              "       [0.99506986],\n",
              "       [0.03566337],\n",
              "       [0.02102187],\n",
              "       [0.02101779],\n",
              "       [0.00894538],\n",
              "       [0.914289  ],\n",
              "       [0.02439526],\n",
              "       [0.01217979],\n",
              "       [0.99518186],\n",
              "       [0.97288465],\n",
              "       [0.03051993],\n",
              "       [0.17113662],\n",
              "       [0.9900807 ],\n",
              "       [0.80565715],\n",
              "       [0.16186973],\n",
              "       [0.11275935],\n",
              "       [0.996762  ],\n",
              "       [0.0329321 ],\n",
              "       [0.66160214],\n",
              "       [0.98537946],\n",
              "       [0.05423886],\n",
              "       [0.9953539 ],\n",
              "       [0.3541499 ],\n",
              "       [0.6937759 ],\n",
              "       [0.01252592],\n",
              "       [0.8920035 ],\n",
              "       [0.57044214],\n",
              "       [0.00620472],\n",
              "       [0.97659886],\n",
              "       [0.9915246 ],\n",
              "       [0.00825554],\n",
              "       [0.9593053 ],\n",
              "       [0.80319583],\n",
              "       [0.9977921 ],\n",
              "       [0.23234233],\n",
              "       [0.6239186 ],\n",
              "       [0.17308316],\n",
              "       [0.9910907 ],\n",
              "       [0.65634125],\n",
              "       [0.9041165 ],\n",
              "       [0.08505347],\n",
              "       [0.35378098],\n",
              "       [0.07292134],\n",
              "       [0.19494271],\n",
              "       [0.00452691],\n",
              "       [0.78935075],\n",
              "       [0.9830264 ],\n",
              "       [0.22218987]], dtype=float32)"
            ]
          },
          "metadata": {},
          "execution_count": 118
        }
      ]
    },
    {
      "cell_type": "markdown",
      "source": [
        "WHY OUTPUT IS THIS WAY AND float32 ?? The model outputs the predicted probabilities \n",
        "you need to transform them back to class labels before calculating the classification metrics, see below."
      ],
      "metadata": {
        "id": "5MIRnUN8GFGU"
      }
    },
    {
      "cell_type": "markdown",
      "source": [
        "https://stackoverflow.com/questions/69875073/confusion-matrix-valueerror-classification-metrics-cant-handle-a-mix-of-binary"
      ],
      "metadata": {
        "id": "VFGy1V-PF-Lj"
      }
    },
    {
      "cell_type": "markdown",
      "source": [
        "# ⚗ fix this henda"
      ],
      "metadata": {
        "id": "s-pohJYDNNyD"
      }
    },
    {
      "cell_type": "markdown",
      "metadata": {
        "id": "hFC1nz5_p33b"
      },
      "source": [
        "Confusion Matrix"
      ]
    },
    {
      "cell_type": "code",
      "source": [
        "# extract the predicted probabilities\n",
        "#y_pred = y_pred.flatten()\n",
        "print(y_pred.round(2))\n",
        "# [1. 0.01 0.91 0.87 0.06 0.95 0.24 0.58 0.78 ...\n",
        "\n",
        "# extract the predicted class labels\n",
        "y_pred = np.where(y_pred > 0.5, 1, 0)\n",
        "print(y_pred)\n",
        "# [1 0 1 1 0 1 0 1 1 0 0 0 0 1 1 0 1 0 0 0 0 ...\n",
        "\n",
        "print(confusion_matrix(Y_test, y_pred))\n",
        "# [[13  1]\n",
        "#  [ 2  9]]"
      ],
      "metadata": {
        "colab": {
          "base_uri": "https://localhost:8080/"
        },
        "id": "wB8MzOJvFokA",
        "outputId": "baabafab-28a1-427d-c0fc-fa2ada4c8938"
      },
      "execution_count": null,
      "outputs": [
        {
          "output_type": "stream",
          "name": "stdout",
          "text": [
            "[[0.99]\n",
            " [0.83]\n",
            " [0.99]\n",
            " [0.99]\n",
            " [0.19]\n",
            " [0.76]\n",
            " [0.64]\n",
            " [0.01]\n",
            " [0.91]\n",
            " [0.03]\n",
            " [0.74]\n",
            " [0.04]\n",
            " [0.61]\n",
            " [0.28]\n",
            " [0.03]\n",
            " [0.68]\n",
            " [0.  ]\n",
            " [0.86]\n",
            " [0.  ]\n",
            " [1.  ]\n",
            " [0.75]\n",
            " [0.83]\n",
            " [0.24]\n",
            " [1.  ]\n",
            " [0.01]\n",
            " [0.  ]\n",
            " [0.47]\n",
            " [0.02]\n",
            " [0.28]\n",
            " [0.93]\n",
            " [0.9 ]\n",
            " [0.98]\n",
            " [0.61]\n",
            " [0.98]\n",
            " [0.89]\n",
            " [0.98]\n",
            " [0.11]\n",
            " [0.08]\n",
            " [0.05]\n",
            " [0.01]\n",
            " [0.43]\n",
            " [0.01]\n",
            " [0.11]\n",
            " [0.01]\n",
            " [1.  ]\n",
            " [0.  ]\n",
            " [0.01]\n",
            " [0.01]\n",
            " [0.94]\n",
            " [0.01]\n",
            " [0.  ]\n",
            " [0.08]\n",
            " [0.49]\n",
            " [0.35]\n",
            " [0.05]\n",
            " [0.94]\n",
            " [0.86]\n",
            " [0.49]\n",
            " [0.96]\n",
            " [1.  ]\n",
            " [0.35]\n",
            " [0.96]\n",
            " [0.29]\n",
            " [0.46]\n",
            " [0.99]\n",
            " [0.2 ]\n",
            " [0.39]\n",
            " [0.71]\n",
            " [0.88]\n",
            " [0.99]\n",
            " [0.95]\n",
            " [0.06]\n",
            " [0.02]\n",
            " [0.13]\n",
            " [0.08]\n",
            " [0.59]\n",
            " [0.51]\n",
            " [0.01]\n",
            " [0.1 ]\n",
            " [0.96]\n",
            " [0.08]\n",
            " [0.97]\n",
            " [0.07]\n",
            " [1.  ]\n",
            " [0.18]\n",
            " [0.78]\n",
            " [0.9 ]\n",
            " [0.01]\n",
            " [0.03]\n",
            " [1.  ]\n",
            " [0.04]\n",
            " [0.08]\n",
            " [0.09]\n",
            " [0.01]\n",
            " [0.86]\n",
            " [0.17]\n",
            " [0.92]\n",
            " [0.05]\n",
            " [1.  ]\n",
            " [0.72]\n",
            " [1.  ]\n",
            " [0.09]\n",
            " [1.  ]\n",
            " [0.04]\n",
            " [0.02]\n",
            " [0.02]\n",
            " [0.01]\n",
            " [0.91]\n",
            " [0.02]\n",
            " [0.01]\n",
            " [1.  ]\n",
            " [0.97]\n",
            " [0.03]\n",
            " [0.17]\n",
            " [0.99]\n",
            " [0.81]\n",
            " [0.16]\n",
            " [0.11]\n",
            " [1.  ]\n",
            " [0.03]\n",
            " [0.66]\n",
            " [0.99]\n",
            " [0.05]\n",
            " [1.  ]\n",
            " [0.35]\n",
            " [0.69]\n",
            " [0.01]\n",
            " [0.89]\n",
            " [0.57]\n",
            " [0.01]\n",
            " [0.98]\n",
            " [0.99]\n",
            " [0.01]\n",
            " [0.96]\n",
            " [0.8 ]\n",
            " [1.  ]\n",
            " [0.23]\n",
            " [0.62]\n",
            " [0.17]\n",
            " [0.99]\n",
            " [0.66]\n",
            " [0.9 ]\n",
            " [0.09]\n",
            " [0.35]\n",
            " [0.07]\n",
            " [0.19]\n",
            " [0.  ]\n",
            " [0.79]\n",
            " [0.98]\n",
            " [0.22]]\n",
            "[[1]\n",
            " [1]\n",
            " [1]\n",
            " [1]\n",
            " [0]\n",
            " [1]\n",
            " [1]\n",
            " [0]\n",
            " [1]\n",
            " [0]\n",
            " [1]\n",
            " [0]\n",
            " [1]\n",
            " [0]\n",
            " [0]\n",
            " [1]\n",
            " [0]\n",
            " [1]\n",
            " [0]\n",
            " [1]\n",
            " [1]\n",
            " [1]\n",
            " [0]\n",
            " [1]\n",
            " [0]\n",
            " [0]\n",
            " [0]\n",
            " [0]\n",
            " [0]\n",
            " [1]\n",
            " [1]\n",
            " [1]\n",
            " [1]\n",
            " [1]\n",
            " [1]\n",
            " [1]\n",
            " [0]\n",
            " [0]\n",
            " [0]\n",
            " [0]\n",
            " [0]\n",
            " [0]\n",
            " [0]\n",
            " [0]\n",
            " [1]\n",
            " [0]\n",
            " [0]\n",
            " [0]\n",
            " [1]\n",
            " [0]\n",
            " [0]\n",
            " [0]\n",
            " [0]\n",
            " [0]\n",
            " [0]\n",
            " [1]\n",
            " [1]\n",
            " [0]\n",
            " [1]\n",
            " [1]\n",
            " [0]\n",
            " [1]\n",
            " [0]\n",
            " [0]\n",
            " [1]\n",
            " [0]\n",
            " [0]\n",
            " [1]\n",
            " [1]\n",
            " [1]\n",
            " [1]\n",
            " [0]\n",
            " [0]\n",
            " [0]\n",
            " [0]\n",
            " [1]\n",
            " [1]\n",
            " [0]\n",
            " [0]\n",
            " [1]\n",
            " [0]\n",
            " [1]\n",
            " [0]\n",
            " [1]\n",
            " [0]\n",
            " [1]\n",
            " [1]\n",
            " [0]\n",
            " [0]\n",
            " [1]\n",
            " [0]\n",
            " [0]\n",
            " [0]\n",
            " [0]\n",
            " [1]\n",
            " [0]\n",
            " [1]\n",
            " [0]\n",
            " [1]\n",
            " [1]\n",
            " [1]\n",
            " [0]\n",
            " [1]\n",
            " [0]\n",
            " [0]\n",
            " [0]\n",
            " [0]\n",
            " [1]\n",
            " [0]\n",
            " [0]\n",
            " [1]\n",
            " [1]\n",
            " [0]\n",
            " [0]\n",
            " [1]\n",
            " [1]\n",
            " [0]\n",
            " [0]\n",
            " [1]\n",
            " [0]\n",
            " [1]\n",
            " [1]\n",
            " [0]\n",
            " [1]\n",
            " [0]\n",
            " [1]\n",
            " [0]\n",
            " [1]\n",
            " [1]\n",
            " [0]\n",
            " [1]\n",
            " [1]\n",
            " [0]\n",
            " [1]\n",
            " [1]\n",
            " [1]\n",
            " [0]\n",
            " [1]\n",
            " [0]\n",
            " [1]\n",
            " [1]\n",
            " [1]\n",
            " [0]\n",
            " [0]\n",
            " [0]\n",
            " [0]\n",
            " [0]\n",
            " [1]\n",
            " [1]\n",
            " [0]]\n",
            "[[65  1]\n",
            " [14 70]]\n"
          ]
        }
      ]
    },
    {
      "cell_type": "code",
      "source": [
        "import matplotlib.pyplot as plt\n",
        "from sklearn.metrics import ConfusionMatrixDisplay\n",
        "\n",
        "ConfusionMatrixDisplay.from_predictions(Y_test, y_pred)\n",
        "\n",
        "plt.show()"
      ],
      "metadata": {
        "colab": {
          "base_uri": "https://localhost:8080/",
          "height": 282
        },
        "id": "1GhhtOGX7iU8",
        "outputId": "9304c857-9e02-4db8-9365-4b45649f9522"
      },
      "execution_count": null,
      "outputs": [
        {
          "output_type": "display_data",
          "data": {
            "image/png": "[encoded data removed]",
            "text/plain": [
              "<Figure size 432x288 with 2 Axes>"
            ]
          },
          "metadata": {
            "needs_background": "light"
          }
        }
      ]
    },
    {
      "cell_type": "markdown",
      "source": [
        "https://scikit-learn.org/stable/modules/generated/sklearn.metrics.ConfusionMatrixDisplay.html#sklearn.metrics.ConfusionMatrixDisplay.from_predictions"
      ],
      "metadata": {
        "id": "4wkXjAcQ885T"
      }
    },
    {
      "cell_type": "markdown",
      "source": [
        "INTERPRET?\n",
        "\n",
        "NICE BUT NOT ENOUGH "
      ],
      "metadata": {
        "id": "ZL8MK8vH8rZE"
      }
    },
    {
      "cell_type": "markdown",
      "source": [
        "# Note\n",
        "\n",
        "Before you submit your work \n",
        "\n",
        "* You should compare different optimizers:\n",
        "( adam , memntum, rmsprop , ..)\n",
        "adam vs sgd vs rmsprop vs mementum vs ..\n",
        "\n",
        "https://stats.stackexchange.com/questions/315743/rmsprop-and-adam-vs-sgd"
      ],
      "metadata": {
        "id": "vFDTZwMGVoBg"
      }
    },
    {
      "cell_type": "code",
      "source": [
        "opt = 'RMSprop'\n",
        "#opt = Adam(lr=0.000001)\n",
        "model.compile(optimizer = opt , loss =\"binary_crossentropy\" , metrics = ['accuracy'])"
      ],
      "metadata": {
        "id": "xwGe3NeyVskz"
      },
      "execution_count": null,
      "outputs": []
    },
    {
      "cell_type": "code",
      "source": [
        "history = model.fit(X_train, Y_train,epochs=10,batch_size=16) #x_test =validation\n",
        "#Scoring of model on training and test data\n",
        "#maybe changing architecture for better res\n",
        "\n",
        "train_accuracy = history_model.history['accuracy']# val_accuracy\n",
        "train_loss = history_model.history['loss']# val_loss\n",
        "count = range(len(train_accuracy))\n",
        "plt.plot(count, train_accuracy, label='Training accuracy')\n",
        "plt.plot(count, train_loss, label='Training Loss')\n",
        "plt.title('epochs vs Training Loss')\n",
        "plt.legend()\n",
        "print()\n",
        "scores = model.evaluate(X_train, Y_train)\n",
        "print (\"Training Accuracy: %.2f%%\\n\" % (scores[1]*100))\n",
        "scores = model.evaluate(X_test, Y_test)\n",
        "print (\"Testing Accuracy: %.2f%%\\n\" % (scores[1]*100))"
      ],
      "metadata": {
        "id": "Hj2t2XIdVsbe",
        "colab": {
          "base_uri": "https://localhost:8080/",
          "height": 749
        },
        "outputId": "1b60e7b2-d51b-4f50-d846-3a1727536628"
      },
      "execution_count": null,
      "outputs": [
        {
          "output_type": "stream",
          "name": "stdout",
          "text": [
            "Epoch 1/10\n",
            "38/38 [==============================] - 5s 108ms/step - loss: 0.1985 - accuracy: 0.9367\n",
            "Epoch 2/10\n",
            "38/38 [==============================] - 4s 109ms/step - loss: 0.1220 - accuracy: 0.9583\n",
            "Epoch 3/10\n",
            "38/38 [==============================] - 4s 109ms/step - loss: 0.0813 - accuracy: 0.9700\n",
            "Epoch 4/10\n",
            "38/38 [==============================] - 4s 110ms/step - loss: 0.0715 - accuracy: 0.9750\n",
            "Epoch 5/10\n",
            "38/38 [==============================] - 4s 107ms/step - loss: 0.0626 - accuracy: 0.9783\n",
            "Epoch 6/10\n",
            "38/38 [==============================] - 4s 108ms/step - loss: 0.0507 - accuracy: 0.9833\n",
            "Epoch 7/10\n",
            "38/38 [==============================] - 4s 109ms/step - loss: 0.0673 - accuracy: 0.9850\n",
            "Epoch 8/10\n",
            "38/38 [==============================] - 4s 107ms/step - loss: 0.0547 - accuracy: 0.9783\n",
            "Epoch 9/10\n",
            "38/38 [==============================] - 4s 107ms/step - loss: 0.0337 - accuracy: 0.9933\n",
            "Epoch 10/10\n",
            "38/38 [==============================] - 4s 108ms/step - loss: 0.0369 - accuracy: 0.9867\n",
            "\n",
            "19/19 [==============================] - 1s 66ms/step - loss: 0.0188 - accuracy: 0.9983\n",
            "Training Accuracy: 99.83%\n",
            "\n",
            "5/5 [==============================] - 0s 61ms/step - loss: 0.0926 - accuracy: 0.9733\n",
            "Testing Accuracy: 97.33%\n",
            "\n"
          ]
        },
        {
          "output_type": "display_data",
          "data": {
            "image/png": "[encoded data removed]",
            "text/plain": [
              "<Figure size 432x288 with 1 Axes>"
            ]
          },
          "metadata": {
            "needs_background": "light"
          }
        }
      ]
    },
    {
      "cell_type": "code",
      "source": [
        "opt = 'SGD'\n",
        "#opt = Adam(lr=0.000001)\n",
        "model.compile(optimizer = opt , loss =\"binary_crossentropy\" , metrics = ['accuracy'])"
      ],
      "metadata": {
        "id": "jyHCfnzBVsSL"
      },
      "execution_count": null,
      "outputs": []
    },
    {
      "cell_type": "code",
      "source": [
        "history = model.fit(X_train,Y_train,epochs = 5 , validation_data = (X_test, Y_test),) #X_test, Y_test =X ET Y validation\n",
        "#Scoring of model on training and test data\n",
        "print()\n",
        "train_accuracy = history_model.history['accuracy']# val_accuracy\n",
        "train_loss = history_model.history['loss']# val_loss\n",
        "count = range(len(train_accuracy))\n",
        "plt.plot(count, train_accuracy, label='Training accuracy')\n",
        "plt.plot(count, train_loss, label='Training Loss')\n",
        "plt.title('epochs vs Training Loss')\n",
        "plt.legend()\n",
        "print()\n",
        "scores = model.evaluate(X_train, Y_train)\n",
        "print (\"Training Accuracy: %.2f%%\\n\" % (scores[1]*100))\n",
        "scores = model.evaluate(X_test, Y_test)\n",
        "print (\"Testing Accuracy: %.2f%%\\n\" % (scores[1]*100))"
      ],
      "metadata": {
        "colab": {
          "base_uri": "https://localhost:8080/",
          "height": 593
        },
        "id": "0qTV1gZg2vsX",
        "outputId": "7b2ac9d7-741f-45c8-8f6c-d771c3619001"
      },
      "execution_count": null,
      "outputs": [
        {
          "output_type": "stream",
          "name": "stdout",
          "text": [
            "Epoch 1/5\n",
            "19/19 [==============================] - 5s 227ms/step - loss: 0.0142 - accuracy: 0.9983 - val_loss: 0.0861 - val_accuracy: 0.9600\n",
            "Epoch 2/5\n",
            "19/19 [==============================] - 4s 218ms/step - loss: 0.0129 - accuracy: 0.9983 - val_loss: 0.0931 - val_accuracy: 0.9667\n",
            "Epoch 3/5\n",
            "19/19 [==============================] - 4s 218ms/step - loss: 0.0107 - accuracy: 0.9983 - val_loss: 0.0845 - val_accuracy: 0.9600\n",
            "Epoch 4/5\n",
            "19/19 [==============================] - 4s 219ms/step - loss: 0.0102 - accuracy: 0.9983 - val_loss: 0.0850 - val_accuracy: 0.9667\n",
            "Epoch 5/5\n",
            "19/19 [==============================] - 4s 217ms/step - loss: 0.0095 - accuracy: 0.9983 - val_loss: 0.0794 - val_accuracy: 0.9667\n",
            "\n",
            "\n",
            "19/19 [==============================] - 1s 67ms/step - loss: 0.0084 - accuracy: 0.9983\n",
            "Training Accuracy: 99.83%\n",
            "\n",
            "5/5 [==============================] - 0s 71ms/step - loss: 0.0794 - accuracy: 0.9667\n",
            "Testing Accuracy: 96.67%\n",
            "\n"
          ]
        },
        {
          "output_type": "display_data",
          "data": {
            "image/png": "[encoded data removed]",
            "text/plain": [
              "<Figure size 432x288 with 1 Axes>"
            ]
          },
          "metadata": {
            "needs_background": "light"
          }
        }
      ]
    },
    {
      "cell_type": "markdown",
      "metadata": {
        "id": "QQKL1aDLqjqU"
      },
      "source": [
        "# Note\n",
        "\n",
        "* Display images with Predicted & expected labels (Happy-sad)\n"
      ]
    },
    {
      "cell_type": "markdown",
      "source": [
        "i followed this tuto of soccer/rugby Classifier \n",
        "\n",
        "https://www.analyticsvidhya.com/blog/2020/10/create-image-classification-model-python-keras/"
      ],
      "metadata": {
        "id": "eDY4LZNE_hg5"
      }
    },
    {
      "cell_type": "markdown",
      "source": [
        "# ⚗fix this henda"
      ],
      "metadata": {
        "id": "ONVlvxfdNWWp"
      }
    },
    {
      "cell_type": "code",
      "source": [
        "from sklearn.metrics import classification_report,confusion_matrix\n",
        "import cv2\n",
        "import os\n",
        "\n",
        "y_pred.reshape(1,-1)[0]\n",
        "\n",
        "print(classification_report(Y_test, y_pred, target_names = ['HAPPY (Class 0)','NOT_HAPPY (Class 1)']))"
      ],
      "metadata": {
        "colab": {
          "base_uri": "https://localhost:8080/"
        },
        "id": "RhE5HlP5-s2L",
        "outputId": "07a34fe3-e0d2-49f5-c02a-812684d64689"
      },
      "execution_count": null,
      "outputs": [
        {
          "output_type": "stream",
          "name": "stdout",
          "text": [
            "                     precision    recall  f1-score   support\n",
            "\n",
            "    HAPPY (Class 0)       0.82      0.98      0.90        66\n",
            "NOT_HAPPY (Class 1)       0.99      0.83      0.90        84\n",
            "\n",
            "           accuracy                           0.90       150\n",
            "          macro avg       0.90      0.91      0.90       150\n",
            "       weighted avg       0.91      0.90      0.90       150\n",
            "\n"
          ]
        }
      ]
    },
    {
      "cell_type": "markdown",
      "source": [
        "#CAN U PlEASE GIVE ME THE CODE FOR THE lAST PART I COUlD'T DO MORE ... time is running  :) ! "
      ],
      "metadata": {
        "id": "hFtd2W0xCfV2"
      }
    },
    {
      "cell_type": "code",
      "source": [
        "plt.figure(figsize=(10,10))\n",
        "for i in range(25):\n",
        "    plt.subplot(5,5,i+1)\n",
        "    plt.xticks([])\n",
        "    plt.yticks([])\n",
        "    plt.grid('off')\n",
        "    \n",
        "    img_index = np.random.randint(0, 10000)\n",
        "    plt.imshow(X_train[img_index], cmap=plt.cm.gray)\n",
        "    \n",
        "\n",
        "\n",
        "    actual_label = int(X_train) #train_labels_categ\n",
        "    predicted_label = int(y_pred) #yes\n",
        "    \n",
        "    plt.xlabel(\"Actual: {} ({})\\n Predicted: {} ({})\".format(\n",
        "    actual_label, text_labels[actual_label], predicted_label, text_labels[predicted_label] \n",
        "    #numerical_label = train_labels[random_index]\n",
        "    #text_description = text_labels[numerical_label]\n",
        "    ))\n",
        "    \n",
        "plt.tight_layout()\n",
        "plt.show()"
      ],
      "metadata": {
        "id": "mKUej9SAVWiQ"
      },
      "execution_count": null,
      "outputs": []
    }
  ]
}