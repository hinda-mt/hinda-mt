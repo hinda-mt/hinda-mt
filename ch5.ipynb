{
  "nbformat": 4,
  "nbformat_minor": 0,
  "metadata": {
    "colab": {
      "name": "ch5.ipynb",
      "provenance": [],
      "collapsed_sections": [],
      "authorship_tag": "ABX9TyNa0p3IxO8uo8Aa4frbhR0C",
      "include_colab_link": true
    },
    "kernelspec": {
      "name": "python3",
      "display_name": "Python 3"
    },
    "language_info": {
      "name": "python"
    }
  },
  "cells": [
    {
      "cell_type": "markdown",
      "metadata": {
        "id": "view-in-github",
        "colab_type": "text"
      },
      "source": [
        "<a href=\"https://colab.research.google.com/github/hinda-mt/hinda-mt/blob/main/ch5.ipynb\" target=\"_parent\"><img src=\"https://colab.research.google.com/assets/colab-badge.svg\" alt=\"Open In Colab\"/></a>"
      ]
    },
    {
      "cell_type": "markdown",
      "metadata": {
        "id": "X4RfK0i12b4N"
      },
      "source": [
        "####Q1: Write a Python function to find the Max of three numbers.\n",
        "\n"
      ]
    },
    {
      "cell_type": "code",
      "metadata": {
        "id": "2hpYwLSCXqYV",
        "colab": {
          "base_uri": "https://localhost:8080/"
        },
        "outputId": "b9acc777-5e7d-4816-b96c-8fb28225345e"
      },
      "source": [
        "a=int(input())\n",
        "b=int(input())\n",
        "c=int(input())\n",
        " #test two conditions for 3 variables  \n",
        "def max(a,b,c): \n",
        "  if a>b and a>c : \n",
        "     return (a, \"is the maximum\")\n",
        "  elif b>c and b>a :\n",
        "     return (b, \"is the maximum\")\n",
        "  else : \n",
        "     return (c, \"is the maximum\")\n",
        "max(a,b,c)"
      ],
      "execution_count": null,
      "outputs": [
        {
          "name": "stdout",
          "output_type": "stream",
          "text": [
            "45\n",
            "78\n",
            "152\n"
          ]
        },
        {
          "output_type": "execute_result",
          "data": {
            "text/plain": [
              "(152, 'is the maximum')"
            ]
          },
          "metadata": {},
          "execution_count": 32
        }
      ]
    },
    {
      "cell_type": "markdown",
      "metadata": {
        "id": "_fMtZPAZ5OrT"
      },
      "source": [
        "#####Q2: Write a function calculation() such that it can accept two variables and calculate the addition and subtraction of it. And also it must return both addition and subtraction in a single return call. \n",
        "**For example: calculation(40, 10) should produce 50, 30**"
      ]
    },
    {
      "cell_type": "code",
      "metadata": {
        "id": "FoZLSIEg5ZK_",
        "colab": {
          "base_uri": "https://localhost:8080/"
        },
        "outputId": "e855c3f8-d99e-46f6-b076-5e4ed7ee87ed"
      },
      "source": [
        "a=int(input())\n",
        "b=int(input())\n",
        "def calculate(a,b):\n",
        "  sum=a+b\n",
        "  sub=a-b\n",
        "  return(sum,sub)\n",
        "calculate (a,b)\n"
      ],
      "execution_count": null,
      "outputs": [
        {
          "name": "stdout",
          "output_type": "stream",
          "text": [
            "5\n",
            "3\n"
          ]
        },
        {
          "output_type": "execute_result",
          "data": {
            "text/plain": [
              "(8, 2)"
            ]
          },
          "metadata": {},
          "execution_count": 53
        }
      ]
    },
    {
      "cell_type": "code",
      "metadata": {
        "id": "GjQRtkENFJVY"
      },
      "source": [
        "from google.colab import drive\n",
        "drive.mount('/content/drive')"
      ],
      "execution_count": null,
      "outputs": []
    },
    {
      "cell_type": "markdown",
      "metadata": {
        "id": "hc4vKqDHxg7p"
      },
      "source": [
        "Q3:  Write a function that sums the elements of a list of integers.\n",
        "\n",
        "* Write a function that multiplies the elements of an integer list.\n",
        "\n",
        "* Use the two functions to sum the elements whose position is an even number (0,2,4…) and multiply the rest.\n",
        "\n",
        "**Hint: Consider extracting two lists from a first list**"
      ]
    },
    {
      "cell_type": "code",
      "metadata": {
        "colab": {
          "base_uri": "https://localhost:8080/"
        },
        "id": "PUGSOzQr9pRw",
        "outputId": "d96fe20c-8938-4656-ba9c-e94713a8ee25"
      },
      "source": [
        "e_list = []\n",
        "# adding integer elements to the list by user\n",
        "n = int(input(\"Enter number of elements : \"))\n",
        "for i in range(0, n):\n",
        "    elements = int(input())\n",
        "    e_list.append(elements) \n",
        "     \n",
        "print(e_list)      \n",
        "# adding FUNCTION  to multiply elements of the user's list\n",
        "def multiply(arr): \n",
        "  m=1\n",
        "  for num in arr :\n",
        "    m = m * num\n",
        "  return m\n",
        "\n",
        "# adding FUNCTION  to sum elements of the user's list\n",
        "\n",
        "def Sum(arr): \n",
        "  res = 0\n",
        "  for i in range (len(arr)):\n",
        "     res = res + arr[i]\n",
        "  return res\n",
        "\n",
        "# adding FUNCTION  to multiply odd elements and even elements \n",
        "\n",
        "\n",
        "def function(arr):\n",
        "  even_arr = []\n",
        "  odd_arr = []\n",
        "  for j in range(len(arr)):\n",
        "   if j%2 == 0 :\n",
        "     even_arr.append(arr[j])\n",
        "   else :\n",
        "     odd_arr.append(arr[j]) \n",
        "  \n",
        "  res_sum = Sum(even_arr)\n",
        "  res_mu = multiply(odd_arr)\n",
        "\n",
        "  return(res_sum,res_mu)\n",
        "\n",
        "function(e_list)\n"
      ],
      "execution_count": null,
      "outputs": [
        {
          "output_type": "stream",
          "name": "stdout",
          "text": [
            "Enter number of elements : 4\n",
            "1\n",
            "2\n",
            "3\n",
            "4\n",
            "[1, 2, 3, 4]\n"
          ]
        },
        {
          "output_type": "execute_result",
          "data": {
            "text/plain": [
              "(4, 8)"
            ]
          },
          "metadata": {},
          "execution_count": 53
        }
      ]
    },
    {
      "cell_type": "markdown",
      "metadata": {
        "id": "VyDAnhEt4jD4"
      },
      "source": [
        "###Q4: Write a Python program that accepts a hyphen-separated sequence of words as input and prints the words in a hyphen-separated sequence after sorting them alphabetically.\n",
        "\n",
        "Sample Items : green-red-yellow-black-white\n",
        "\n",
        "Expected Result : black-green-red-white-yellow\n",
        "\n",
        "**Hint : There is a sort function for lists**"
      ]
    },
    {
      "cell_type": "code",
      "metadata": {
        "colab": {
          "base_uri": "https://localhost:8080/"
        },
        "id": "XPuPZElcGMTv",
        "outputId": "1e4dfabb-1504-40d0-f3c1-4317e991b890"
      },
      "source": [
        "phrase = input('input your phrase : ')"
      ],
      "execution_count": null,
      "outputs": [
        {
          "name": "stdout",
          "output_type": "stream",
          "text": [
            "input your phrase : green-red-yellow-black-white\n"
          ]
        }
      ]
    },
    {
      "cell_type": "markdown",
      "metadata": {
        "id": "jiIIzdZaU0l1"
      },
      "source": [
        "#####solution.1\n"
      ]
    },
    {
      "cell_type": "code",
      "metadata": {
        "id": "t1P9QOtAZF68"
      },
      "source": [
        "phrase = input('input your phrase : ')\n",
        "\n",
        "words_list = phrase.split('-')\n",
        "\n",
        "sort(words_list)\n"
      ],
      "execution_count": null,
      "outputs": []
    },
    {
      "cell_type": "markdown",
      "metadata": {
        "id": "KTzTFPO3VHLE"
      },
      "source": [
        "#####solution.2\n"
      ]
    },
    {
      "cell_type": "code",
      "metadata": {
        "id": "Mjx_liNLUYgF"
      },
      "source": [
        "phrase = input('input your phrase : ')\n",
        "\n",
        "def "
      ],
      "execution_count": null,
      "outputs": []
    }
  ]
}