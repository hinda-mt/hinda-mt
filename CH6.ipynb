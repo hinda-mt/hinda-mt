{
  "nbformat": 4,
  "nbformat_minor": 0,
  "metadata": {
    "colab": {
      "name": "CH6.ipynb",
      "provenance": [],
      "collapsed_sections": [],
      "authorship_tag": "ABX9TyMohboC5kS0KOJKBqlBHU/R",
      "include_colab_link": true
    },
    "kernelspec": {
      "name": "python3",
      "display_name": "Python 3"
    },
    "language_info": {
      "name": "python"
    }
  },
  "cells": [
    {
      "cell_type": "markdown",
      "metadata": {
        "id": "view-in-github",
        "colab_type": "text"
      },
      "source": [
        "<a href=\"https://colab.research.google.com/github/hinda-mt/hinda-mt/blob/main/CH6.ipynb\" target=\"_parent\"><img src=\"https://colab.research.google.com/assets/colab-badge.svg\" alt=\"Open In Colab\"/></a>"
      ]
    },
    {
      "cell_type": "markdown",
      "metadata": {
        "id": "eF__Mw5o7XHO"
      },
      "source": [
        "1.Write a Python program to convert an array to an ordinary list with the same items."
      ]
    },
    {
      "cell_type": "code",
      "metadata": {
        "id": "5TbFfOWR0aYt",
        "colab": {
          "base_uri": "https://localhost:8080/"
        },
        "outputId": "2aa345f2-c7b7-49a2-eefd-18a9815eed6e"
      },
      "source": [
        "import numpy as np \n",
        "arr = np.array([1,2,3]) # 1d array \n",
        "print(f'Numpy Array:\\n{arr}') \n",
        "\n",
        "mlist = arr.tolist() # converting array to a list\n",
        "print(f'List: \\n{mlist}') "
      ],
      "execution_count": null,
      "outputs": [
        {
          "output_type": "stream",
          "name": "stdout",
          "text": [
            "Numpy Array:\n",
            "[1 2 3]\n",
            "List: \n",
            "[1, 2, 3]\n"
          ]
        }
      ]
    },
    {
      "cell_type": "markdown",
      "metadata": {
        "id": "tM9hb-LEwrZv"
      },
      "source": [
        "2.Write a NumPy program to compute the sum of the diagonal element of a given array\n",
        "\n",
        "**2D**\n",
        "**n*n**\n",
        "\n"
      ]
    },
    {
      "cell_type": "code",
      "metadata": {
        "colab": {
          "base_uri": "https://localhost:8080/"
        },
        "id": "ZgXcWYRVpuKN",
        "outputId": "6b89eb64-eb49-4da2-ee9e-ca6cc4a04092"
      },
      "source": [
        " import numpy as np\n",
        "\n",
        "n_arr = np.random.randint(0, 10, size=(3, 3, 2))\n",
        "\n",
        "res_list = [int(n) for n in np.nditer(n_arr)]\n",
        "\n",
        "res_list"
      ],
      "execution_count": null,
      "outputs": [
        {
          "output_type": "execute_result",
          "data": {
            "text/plain": [
              "[1, 2, 6, 7, 5, 8, 0, 3, 1, 3, 8, 0, 9, 8, 8, 2, 2, 9]"
            ]
          },
          "metadata": {},
          "execution_count": 10
        }
      ]
    },
    {
      "cell_type": "code",
      "metadata": {
        "id": "tLyt_Jg_wr6C",
        "colab": {
          "base_uri": "https://localhost:8080/"
        },
        "outputId": "67727824-99a6-445b-c89a-77aa4be16b2b"
      },
      "source": [
        " import numpy as np\n",
        "n_arr = np.array([[1, 21, 30],\n",
        "                 [63 ,434, 3],\n",
        "                 [54, 54, 56]])\n",
        "\n",
        "diag = np.diagonal(n_arr)\n",
        "print (diag)\n",
        "res=np.trace(n_arr) \n",
        "print(res)\n"
      ],
      "execution_count": null,
      "outputs": [
        {
          "output_type": "stream",
          "name": "stdout",
          "text": [
            "[  1 434  56]\n",
            "491\n"
          ]
        }
      ]
    },
    {
      "cell_type": "markdown",
      "metadata": {
        "id": "XdxEW1b_wq1j"
      },
      "source": [
        "3.Given an array of your choice, get all the values higher than X\n",
        "\n",
        "**X :if a = [[1,2],[3,5]] and x = 2 :  then 3 and 5 are higher than 2.**\n"
      ]
    },
    {
      "cell_type": "code",
      "metadata": {
        "id": "YE9IhFbbwqfm",
        "colab": {
          "base_uri": "https://localhost:8080/"
        },
        "outputId": "805abc70-3707-424e-fc7c-205bb47aad45"
      },
      "source": [
        "import numpy as np \n",
        "a= np.array([[1,2],[3,5]])\n",
        "print(f'NumPy Array:\\n{a}') \n",
        "\n",
        "x=int(input())\n",
        "v= np.amax(a,axis=0) #rows\n",
        "for i in  a :\n",
        "    if (v>x).all(): \n",
        "      print(v,\"are higher than\",x)\n",
        "#I NEED MORE explanation for this one cz i didn't get the perfect result"
      ],
      "execution_count": null,
      "outputs": [
        {
          "output_type": "stream",
          "name": "stdout",
          "text": [
            "NumPy Array:\n",
            "[[1 2]\n",
            " [3 5]]\n",
            "2\n",
            "[3 5] are higher than 2\n",
            "[3 5] are higher than 2\n"
          ]
        }
      ]
    },
    {
      "cell_type": "code",
      "metadata": {
        "colab": {
          "base_uri": "https://localhost:8080/"
        },
        "id": "rtGHqVI-skxT",
        "outputId": "984d3721-0f3f-4069-ab9f-c0498b3cce19"
      },
      "source": [
        "n_arr = np.random.randint(0, 20, size=(3, 3))\n",
        "print(n_arr)\n"
      ],
      "execution_count": null,
      "outputs": [
        {
          "output_type": "stream",
          "name": "stdout",
          "text": [
            "[[ 3  7  5]\n",
            " [ 5  6 12]\n",
            " [18 19 11]]\n"
          ]
        }
      ]
    },
    {
      "cell_type": "code",
      "metadata": {
        "colab": {
          "base_uri": "https://localhost:8080/"
        },
        "id": "9ObgpYA6tkBy",
        "outputId": "7d396577-8bc7-4676-c997-387791e68c98"
      },
      "source": [
        "cond = n_arr > 5 \n",
        "n_arr[cond]"
      ],
      "execution_count": null,
      "outputs": [
        {
          "output_type": "execute_result",
          "data": {
            "text/plain": [
              "array([ 7,  6, 12, 18, 19, 11])"
            ]
          },
          "metadata": {},
          "execution_count": 20
        }
      ]
    },
    {
      "cell_type": "markdown",
      "metadata": {
        "id": "2SvPjJ0SwqHj"
      },
      "source": [
        "4.Given two arrays A&B having the same shape. \n",
        "\n",
        "**The task is to apply addition of A and B : C is the new array.**"
      ]
    },
    {
      "cell_type": "code",
      "metadata": {
        "id": "XSl6hjIfwrHx",
        "colab": {
          "base_uri": "https://localhost:8080/"
        },
        "outputId": "06dfab5c-4e54-4870-8e7d-ec5fca3c616a"
      },
      "source": [
        "import numpy as np\n",
        "A = np.array([[1,2],[3,5]]) \n",
        "B = np.array([[10,2],[6,5]]) \n",
        "\n",
        "newarr = np.add(A,B)\n",
        "# OR C=A+B\n",
        "\n",
        "\n",
        "print(f'sum Array:\\n{C}')\n",
        "#why np.sum(a,b) didn't get the same result ??? \n",
        "#DOES BUIlT IN FUNCTIONs for (lIST OR TUPlE) WON'T WORK FOR THE CASE OF ARRAY in numpy???"
      ],
      "execution_count": null,
      "outputs": [
        {
          "output_type": "stream",
          "name": "stdout",
          "text": [
            "sum Array:\n",
            "[[11  4]\n",
            " [ 9 10]]\n"
          ]
        }
      ]
    }
  ]
}