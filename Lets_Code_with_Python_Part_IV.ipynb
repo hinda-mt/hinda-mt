{
  "cells": [
    {
      "cell_type": "markdown",
      "metadata": {
        "id": "view-in-github",
        "colab_type": "text"
      },
      "source": [
        "<a href=\"https://colab.research.google.com/github/hinda-mt/hinda-mt/blob/main/Lets_Code_with_Python_Part_IV.ipynb\" target=\"_parent\"><img src=\"https://colab.research.google.com/assets/colab-badge.svg\" alt=\"Open In Colab\"/></a>"
      ]
    },
    {
      "cell_type": "markdown",
      "metadata": {
        "id": "NmjYbjkvk5i8"
      },
      "source": [
        "<h1 align='center'>Dealing with Files</h1>"
      ]
    },
    {
      "cell_type": "markdown",
      "metadata": {
        "id": "q15kZ2Gjk5jG"
      },
      "source": [
        "## I. Files with Python\n",
        "### Reading Text Files\n",
        "\n",
        "One way to read or write a file in Python is to use the built-in `open` function. The `open` function provides a **File object** that contains the methods and attributes you need in order to read, save, and manipulate the file.\n",
        "\n",
        "<img src=\"https://s3-api.us-geo.objectstorage.softlayer.net/cf-courses-data/CognitiveClass/PY0101EN/Chapter%204/Images/ReadOpen.png\" width=\"500\" />"
      ]
    },
    {
      "cell_type": "markdown",
      "metadata": {
        "id": "DJFQZhQnk5jH"
      },
      "source": [
        "Read a file:"
      ]
    },
    {
      "cell_type": "code",
      "execution_count": null,
      "metadata": {
        "id": "h8rv6tzMk5jJ"
      },
      "outputs": [],
      "source": [
        "ex1 = \"Example1.txt\"\n",
        "file1 = open(ex1, \"r\")"
      ]
    },
    {
      "cell_type": "markdown",
      "metadata": {
        "id": "scQ4iq77k5jL"
      },
      "source": [
        "We can view the attributes of the file.\n",
        "\n",
        "* The name of the file:"
      ]
    },
    {
      "cell_type": "code",
      "execution_count": null,
      "metadata": {
        "id": "NmpLToX_k5jM"
      },
      "outputs": [],
      "source": [
        "file1.name"
      ]
    },
    {
      "cell_type": "markdown",
      "metadata": {
        "id": "ek2ahiLRk5jN"
      },
      "source": [
        "* The mode the file object is in:"
      ]
    },
    {
      "cell_type": "code",
      "execution_count": null,
      "metadata": {
        "id": "aWzmFpzxk5jP"
      },
      "outputs": [],
      "source": [
        "file1.mode"
      ]
    },
    {
      "cell_type": "markdown",
      "metadata": {
        "id": "Sgx4iLIfk5jQ"
      },
      "source": [
        "We can read the file and assign it to a variable:"
      ]
    },
    {
      "cell_type": "code",
      "execution_count": null,
      "metadata": {
        "id": "7j_G2PGsk5jR"
      },
      "outputs": [],
      "source": [
        "# Read the file\n",
        "\n",
        "FileContent = file1.read()\n",
        "FileContent"
      ]
    },
    {
      "cell_type": "code",
      "execution_count": null,
      "metadata": {
        "id": "TE5PIp1Pk5jS"
      },
      "outputs": [],
      "source": [
        "# Print the file with '\\n' as a new line\n",
        "\n",
        "print(FileContent)"
      ]
    },
    {
      "cell_type": "markdown",
      "metadata": {
        "id": "gFjl51IEk5jT"
      },
      "source": [
        "It is very important that the file is closed in the end. This frees up resources and ensures consistency across different python versions."
      ]
    },
    {
      "cell_type": "code",
      "execution_count": null,
      "metadata": {
        "id": "hfZev0nlk5jU"
      },
      "outputs": [],
      "source": [
        "# Close file after finish\n",
        "\n",
        "file1.close()"
      ]
    },
    {
      "cell_type": "markdown",
      "metadata": {
        "id": "LsAQHgCgk5jV"
      },
      "source": [
        "### A Better Way to Open a File\n",
        "\n",
        "Using the `with` statement is better practice, it automatically closes the file even if the code encounters an exception. The code will run everything in the indent block then close the file object.\n",
        "\n",
        "<img src=\"https://s3-api.us-geo.objectstorage.softlayer.net/cf-courses-data/CognitiveClass/PY0101EN/Chapter%204/Images/ReadWith.png\" width=\"500\" />\n"
      ]
    },
    {
      "cell_type": "code",
      "execution_count": null,
      "metadata": {
        "id": "c-u6AUkhk5jW"
      },
      "outputs": [],
      "source": [
        "# Open file using with\n",
        "\n",
        "with open(ex1, \"r\") as file1:\n",
        "    FileContent = file1.read()\n",
        "    print(FileContent)"
      ]
    },
    {
      "cell_type": "markdown",
      "metadata": {
        "id": "ljb1laLMk5jW"
      },
      "source": [
        "The file object is closed, you can verify it by running the following cell:"
      ]
    },
    {
      "cell_type": "code",
      "execution_count": null,
      "metadata": {
        "id": "d39PiSmmk5jX"
      },
      "outputs": [],
      "source": [
        "# Verify if the file is closed\n",
        "\n",
        "file1.closed"
      ]
    },
    {
      "cell_type": "markdown",
      "metadata": {
        "id": "l5XDw6Stk5jX"
      },
      "source": [
        "We don’t have to read the entire file, for example, we can read the first four characters by entering 4 as a parameter to the method `.read()`:"
      ]
    },
    {
      "cell_type": "code",
      "execution_count": null,
      "metadata": {
        "id": "NFZ9Hr0pk5jY"
      },
      "outputs": [],
      "source": [
        "# Read first four characters\n",
        "\n",
        "with open(ex1, \"r\") as file1:\n",
        "    print(file1.read(4))"
      ]
    },
    {
      "cell_type": "markdown",
      "metadata": {
        "id": "--6mBVSqk5jZ"
      },
      "source": [
        "Once the method `.read(4)` is called the first 4 characters are called. If we call the method again, the next 4 characters are called. The output for the following cell will demonstrate the process for different inputs to the method `read()`:"
      ]
    },
    {
      "cell_type": "code",
      "execution_count": null,
      "metadata": {
        "id": "UcrEB2DMk5jZ"
      },
      "outputs": [],
      "source": [
        "# Read certain amount of characters\n",
        "\n",
        "with open(ex1, \"r\") as file1:\n",
        "    print(file1.read(4))\n",
        "    print(file1.read(4))\n",
        "    print(file1.read(7))\n",
        "    print(file1.read(15))"
      ]
    },
    {
      "cell_type": "markdown",
      "metadata": {
        "id": "Lso3X4WOk5ja"
      },
      "source": [
        "We can also read one line of the file at a time using the method `readline()`:"
      ]
    },
    {
      "cell_type": "code",
      "execution_count": null,
      "metadata": {
        "id": "KI43_2g1k5ja"
      },
      "outputs": [],
      "source": [
        "# Read one line\n",
        "\n",
        "with open(ex1, \"r\") as file1:\n",
        "    print(\"first line: \" + file1.readline())"
      ]
    },
    {
      "cell_type": "markdown",
      "metadata": {
        "id": "zq4rHigwk5jb"
      },
      "source": [
        "We can use a loop to iterate through each line:"
      ]
    },
    {
      "cell_type": "code",
      "execution_count": null,
      "metadata": {
        "id": "c9cqYNl1k5jc"
      },
      "outputs": [],
      "source": [
        "# Iterate through the lines\n",
        "\n",
        "with open(ex1,\"r\") as file1:\n",
        "        i = 0;\n",
        "        for line in file1:\n",
        "            print(\"Iteration\", str(i), \": \", line)\n",
        "            i = i + 1"
      ]
    },
    {
      "cell_type": "markdown",
      "metadata": {
        "id": "qb7-j0wsk5jc"
      },
      "source": [
        "We can use the method `readlines()` to save the text file to a list:"
      ]
    },
    {
      "cell_type": "code",
      "execution_count": null,
      "metadata": {
        "id": "Xu2uN7ask5jc"
      },
      "outputs": [],
      "source": [
        "# Read all lines and save as a list\n",
        "\n",
        "with open(ex1, \"r\") as file1:\n",
        "    FileasList = file1.readlines()\n",
        "    \n",
        "FileasList"
      ]
    },
    {
      "cell_type": "markdown",
      "metadata": {
        "id": "IcadgUzIk5jd"
      },
      "source": [
        "### Writing Files\n",
        "\n",
        "We can open a file object using the method `write()` to save the text file to a list. To write the mode, argument must be set to write **w**. "
      ]
    },
    {
      "cell_type": "code",
      "execution_count": null,
      "metadata": {
        "id": "J7r7dFzTk5jd"
      },
      "outputs": [],
      "source": [
        "# Write line to file\n",
        "ex2 = 'Example2.txt'\n",
        "with open(ex2, 'w') as writefile:\n",
        "    writefile.write(\"This is line A\")"
      ]
    },
    {
      "cell_type": "markdown",
      "metadata": {
        "id": "PrB_YD6Uk5je"
      },
      "source": [
        "We can read the file to see if it worked:"
      ]
    },
    {
      "cell_type": "code",
      "execution_count": null,
      "metadata": {
        "id": "lPYWxar3k5je"
      },
      "outputs": [],
      "source": [
        "# Read file\n",
        "\n",
        "with open(ex2, 'r') as testwritefile:\n",
        "    print(testwritefile.read())"
      ]
    },
    {
      "cell_type": "markdown",
      "metadata": {
        "id": "aP1YI2f8k5jf"
      },
      "source": [
        "We can write multiple lines:"
      ]
    },
    {
      "cell_type": "code",
      "execution_count": null,
      "metadata": {
        "id": "c-lIVPXYk5jf"
      },
      "outputs": [],
      "source": [
        "# Write lines to file\n",
        "\n",
        "with open(ex2, 'w') as writefile:\n",
        "    writefile.write(\"This is line A\\n\")\n",
        "    writefile.write(\"This is line B\\n\")"
      ]
    },
    {
      "cell_type": "markdown",
      "metadata": {
        "id": "Lps5HLQqk5jf"
      },
      "source": [
        "The method `.write()` works similar to the method .readline(), except instead of reading a new line it writes a new line.\n",
        "\n",
        "Let's write a list to a **.txt** file as follows:"
      ]
    },
    {
      "cell_type": "code",
      "execution_count": null,
      "metadata": {
        "id": "oIS6gtjCk5jg"
      },
      "outputs": [],
      "source": [
        "# Sample list of text\n",
        "\n",
        "Lines = [\"This is line A\\n\", \"This is line B\\n\", \"This is line C\\n\"]\n",
        "\n",
        "# Write the strings in the list to text file\n",
        "\n",
        "with open('Example2.txt', 'w') as writefile:\n",
        "    for line in Lines:\n",
        "        print(line)\n",
        "        writefile.write(line)"
      ]
    },
    {
      "cell_type": "code",
      "execution_count": null,
      "metadata": {
        "id": "2IavHyi2k5jg"
      },
      "outputs": [],
      "source": [
        "# Verify if writing to file is successfully executed\n",
        "\n",
        "with open('Example2.txt', 'r') as testwritefile:\n",
        "    print(testwritefile.read())"
      ]
    },
    {
      "cell_type": "markdown",
      "metadata": {
        "id": "iKeVQLYuk5jh"
      },
      "source": [
        "However, note that setting the mode to **w** overwrites all the existing data in the file."
      ]
    },
    {
      "cell_type": "code",
      "execution_count": null,
      "metadata": {
        "id": "qf3rOvmhk5jh"
      },
      "outputs": [],
      "source": [
        "with open('Example2.txt', 'w') as writefile:\n",
        "    writefile.write(\"Overwrite\\n\")\n",
        "with open('Example2.txt', 'r') as testwritefile:\n",
        "    print(testwritefile.read())"
      ]
    },
    {
      "cell_type": "markdown",
      "metadata": {
        "id": "YJRE9gpJk5ji"
      },
      "source": [
        "### Appending Files\n",
        "\n",
        "We can write to files without losing any of the existing data as follows by setting the mode argument to append **a**. you can append a new line as follows:"
      ]
    },
    {
      "cell_type": "code",
      "execution_count": null,
      "metadata": {
        "id": "beQai3cbk5ji"
      },
      "outputs": [],
      "source": [
        "# Write a new line to text file\n",
        "\n",
        "with open('Example2.txt', 'a') as testwritefile:\n",
        "    testwritefile.write(\"This is line C\\n\")\n",
        "    testwritefile.write(\"This is line D\\n\")\n",
        "    testwritefile.write(\"This is line E\\n\")\n",
        "    \n",
        "# Verify if the new line is in the text file\n",
        "\n",
        "with open('Example2.txt', 'r') as testwritefile:\n",
        "    print(testwritefile.read())"
      ]
    },
    {
      "cell_type": "markdown",
      "metadata": {
        "id": "HMsYIUR4k5jj"
      },
      "source": [
        "### Copy a File\n",
        "\n",
        "Let's copy the file **Example2.txt** to the file **Example3.txt**:"
      ]
    },
    {
      "cell_type": "code",
      "execution_count": null,
      "metadata": {
        "id": "KZrZ8Hlxk5jj"
      },
      "outputs": [],
      "source": [
        "# Copy file to another\n",
        "\n",
        "with open('Example2.txt','r') as readfile:\n",
        "    with open('Example3.txt','w') as writefile:\n",
        "          for line in readfile:\n",
        "                writefile.write(line)"
      ]
    },
    {
      "cell_type": "code",
      "execution_count": null,
      "metadata": {
        "id": "fatQ6OJfk5jj"
      },
      "outputs": [],
      "source": [
        "# Verify if the copy is successfully executed\n",
        "\n",
        "with open('Example3.txt','r') as testwritefile:\n",
        "    print(testwritefile.read())"
      ]
    },
    {
      "cell_type": "markdown",
      "metadata": {
        "id": "XmSxmyznk5jk"
      },
      "source": [
        "Let's copy this image from the following [link](http://data.pr4e.org/cover3.jpg):"
      ]
    },
    {
      "cell_type": "code",
      "execution_count": null,
      "metadata": {
        "scrolled": true,
        "id": "WKVyr2jZk5jk"
      },
      "outputs": [],
      "source": [
        "import urllib\n",
        "\n",
        "# get the image\n",
        "img = urllib.request.urlopen('http://data.pr4e.org/cover3.jpg')\n",
        "\n",
        "fhand = open('cover3.jpg', 'wb')\n",
        "size = 0\n",
        "\n",
        "while True:\n",
        "    info = img.read(100000) # read 100,000 character at a time\n",
        "    if len(info) < 1: break # exit the while loop once the program has finished copying\n",
        "    \n",
        "    fhand.write(info)\n",
        "    size = size + len(info)\n",
        "    \n",
        "print(size, 'characters copied.')\n",
        "fhand.close()"
      ]
    },
    {
      "cell_type": "markdown",
      "metadata": {
        "id": "irnZj4X-k5jk"
      },
      "source": [
        "Now let's display the image using Python:"
      ]
    },
    {
      "cell_type": "code",
      "execution_count": null,
      "metadata": {
        "id": "Ua6fNx3Bk5jl"
      },
      "outputs": [],
      "source": [
        "import matplotlib.pyplot as plt\n",
        "import matplotlib.image as mpimg\n",
        "\n",
        "plt.figure(figsize=(10, 6))\n",
        "\n",
        "img = mpimg.imread('cover3.jpg')\n",
        "plt.imshow(img)\n",
        "\n",
        "plt.axis('off')\n",
        "plt.show()"
      ]
    },
    {
      "cell_type": "markdown",
      "metadata": {
        "id": "IszQqcFqk5jl"
      },
      "source": [
        "|***HICHEM Dridi*** | <img src=\"https://image.pitchbook.com/wvMiGxI5AbuS1BEUzlZ6MLk6clW1621327461408_200x200\" width = 130/>|\n",
        "| :---              |          ---: |"
      ]
    }
  ],
  "metadata": {
    "kernelspec": {
      "display_name": "Python 3",
      "language": "python",
      "name": "python3"
    },
    "language_info": {
      "codemirror_mode": {
        "name": "ipython",
        "version": 3
      },
      "file_extension": ".py",
      "mimetype": "text/x-python",
      "name": "python",
      "nbconvert_exporter": "python",
      "pygments_lexer": "ipython3",
      "version": "3.7.6"
    },
    "colab": {
      "name": "Lets_Code_with_Python_Part_IV.ipynb",
      "provenance": [],
      "include_colab_link": true
    }
  },
  "nbformat": 4,
  "nbformat_minor": 0
}